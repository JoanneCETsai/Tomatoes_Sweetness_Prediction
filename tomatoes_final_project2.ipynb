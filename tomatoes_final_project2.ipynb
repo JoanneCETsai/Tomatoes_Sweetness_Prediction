{
 "cells": [
  {
   "cell_type": "markdown",
   "metadata": {},
   "source": [
    "# 機器學習概論-Final Project: 由番茄外觀預測甜度"
   ]
  },
  {
   "cell_type": "markdown",
   "metadata": {},
   "source": [
    "\n",
    "---\n",
    "Members & 分工情況:\n",
    "\n",
    "吳灃晉 資工 0716116 (20%: 蒐集番茄的各特徵值 & Data Preprocessing & Linear Regression)\n",
    "\n",
    "席秉萱 資工 0716001 (20%: 蒐集番茄的各特徵值 & Data Visualization & KNN)\n",
    "\n",
    "林晉德 選讀 609001001 (20%: 蒐集番茄的各特徵值 & Gaussian & 統整、報告)\n",
    "\n",
    "蔡佳恩 選讀 609001063 (20%: 蒐集番茄的各特徵值 & Logistic Regression & 統整、報告)\n",
    "\n",
    "李佳豫 生科 0617009 (20%: 蒐集番茄的顏色值 & Random Forest & 統整、報告)\n",
    "\n",
    "---"
   ]
  },
  {
   "cell_type": "code",
   "execution_count": 7,
   "metadata": {},
   "outputs": [],
   "source": [
    "import numpy as np\n",
    "import pandas as pd\n",
    "import matplotlib.pyplot as plt\n",
    "import urllib3\n",
    "import seaborn as sns\n",
    "import sklearn.preprocessing as preprocess\n",
    "import statsmodels.api as sm\n",
    "from statsmodels.stats import diagnostic as diag\n",
    "from statsmodels.stats.outliers_influence import variance_inflation_factor\n",
    "from scipy import stats\n",
    "from sklearn.utils import shuffle\n",
    "from sklearn.naive_bayes import GaussianNB\n",
    "from sklearn.naive_bayes import BernoulliNB\n",
    "from sklearn.naive_bayes import MultinomialNB\n",
    "from sklearn.naive_bayes import CategoricalNB\n",
    "from sklearn.preprocessing import LabelEncoder\n",
    "from sklearn.model_selection import train_test_split\n",
    "from sklearn.metrics import confusion_matrix\n",
    "from sklearn.metrics import accuracy_score\n",
    "from sklearn.metrics import precision_score\n",
    "from sklearn.metrics import recall_score\n",
    "from sklearn.metrics import mean_absolute_error\n",
    "from sklearn.impute import SimpleImputer\n",
    "from sklearn.neighbors import KNeighborsClassifier\n",
    "from sklearn.preprocessing import PolynomialFeatures\n",
    "from sklearn.linear_model import LinearRegression\n",
    "from sklearn.model_selection import train_test_split\n",
    "from sklearn.metrics import mean_squared_error, r2_score\n",
    "from sklearn.metrics import classification_report\n",
    "from sklearn.model_selection import KFold\n",
    "import math as m\n",
    "import sklearn as skl\n",
    "from sklearn.ensemble import RandomForestClassifier\n",
    "from sklearn import metrics\n",
    "\n",
    "%matplotlib inline"
   ]
  },
  {
   "cell_type": "markdown",
   "metadata": {},
   "source": [
    "## Part 1 : Data Import\n",
    "\n",
    "---\n",
    "1. 將資料load 進來，存成Data Frame\n",
    "\n",
    "2. 把pandas的設定打開，可以跑出所有的行列(For Data Visualization )\n",
    "\n",
    "---"
   ]
  },
  {
   "cell_type": "code",
   "execution_count": 8,
   "metadata": {},
   "outputs": [
    {
     "data": {
      "text/html": [
       "<div>\n",
       "<style scoped>\n",
       "    .dataframe tbody tr th:only-of-type {\n",
       "        vertical-align: middle;\n",
       "    }\n",
       "\n",
       "    .dataframe tbody tr th {\n",
       "        vertical-align: top;\n",
       "    }\n",
       "\n",
       "    .dataframe thead th {\n",
       "        text-align: right;\n",
       "    }\n",
       "</style>\n",
       "<table border=\"1\" class=\"dataframe\">\n",
       "  <thead>\n",
       "    <tr style=\"text-align: right;\">\n",
       "      <th></th>\n",
       "      <th>pedicle</th>\n",
       "      <th>black_spot</th>\n",
       "      <th>green_or_yellow</th>\n",
       "      <th>tip</th>\n",
       "      <th>folds</th>\n",
       "      <th>weight</th>\n",
       "      <th>length</th>\n",
       "      <th>width</th>\n",
       "      <th>white</th>\n",
       "      <th>moisture</th>\n",
       "      <th>oil</th>\n",
       "      <th>elasticity</th>\n",
       "      <th>refraction</th>\n",
       "      <th>r</th>\n",
       "      <th>g</th>\n",
       "      <th>b</th>\n",
       "      <th>sweetness</th>\n",
       "    </tr>\n",
       "  </thead>\n",
       "  <tbody>\n",
       "    <tr>\n",
       "      <th>0</th>\n",
       "      <td>0</td>\n",
       "      <td>1.0</td>\n",
       "      <td>1</td>\n",
       "      <td>1</td>\n",
       "      <td>1</td>\n",
       "      <td>16.6</td>\n",
       "      <td>3.8</td>\n",
       "      <td>2.8</td>\n",
       "      <td>3.0</td>\n",
       "      <td>21.0</td>\n",
       "      <td>57.0</td>\n",
       "      <td>41.0</td>\n",
       "      <td>1.3417</td>\n",
       "      <td>99</td>\n",
       "      <td>40</td>\n",
       "      <td>24</td>\n",
       "      <td>6.0</td>\n",
       "    </tr>\n",
       "    <tr>\n",
       "      <th>1</th>\n",
       "      <td>0</td>\n",
       "      <td>0.0</td>\n",
       "      <td>0</td>\n",
       "      <td>0</td>\n",
       "      <td>1</td>\n",
       "      <td>7.6</td>\n",
       "      <td>2.5</td>\n",
       "      <td>2.3</td>\n",
       "      <td>3.0</td>\n",
       "      <td>20.0</td>\n",
       "      <td>57.0</td>\n",
       "      <td>41.0</td>\n",
       "      <td>1.3417</td>\n",
       "      <td>104</td>\n",
       "      <td>45</td>\n",
       "      <td>29</td>\n",
       "      <td>6.0</td>\n",
       "    </tr>\n",
       "    <tr>\n",
       "      <th>2</th>\n",
       "      <td>0</td>\n",
       "      <td>0.0</td>\n",
       "      <td>1</td>\n",
       "      <td>0</td>\n",
       "      <td>0</td>\n",
       "      <td>6.5</td>\n",
       "      <td>2.1</td>\n",
       "      <td>1.9</td>\n",
       "      <td>5.0</td>\n",
       "      <td>21.0</td>\n",
       "      <td>57.0</td>\n",
       "      <td>41.0</td>\n",
       "      <td>1.3373</td>\n",
       "      <td>131</td>\n",
       "      <td>46</td>\n",
       "      <td>17</td>\n",
       "      <td>3.0</td>\n",
       "    </tr>\n",
       "    <tr>\n",
       "      <th>3</th>\n",
       "      <td>1</td>\n",
       "      <td>0.0</td>\n",
       "      <td>1</td>\n",
       "      <td>0</td>\n",
       "      <td>0</td>\n",
       "      <td>11.3</td>\n",
       "      <td>3.1</td>\n",
       "      <td>2.6</td>\n",
       "      <td>3.0</td>\n",
       "      <td>20.0</td>\n",
       "      <td>57.0</td>\n",
       "      <td>41.0</td>\n",
       "      <td>1.3364</td>\n",
       "      <td>118</td>\n",
       "      <td>38</td>\n",
       "      <td>15</td>\n",
       "      <td>2.5</td>\n",
       "    </tr>\n",
       "    <tr>\n",
       "      <th>4</th>\n",
       "      <td>1</td>\n",
       "      <td>1.0</td>\n",
       "      <td>0</td>\n",
       "      <td>0</td>\n",
       "      <td>0</td>\n",
       "      <td>9.2</td>\n",
       "      <td>2.7</td>\n",
       "      <td>2.1</td>\n",
       "      <td>5.0</td>\n",
       "      <td>20.0</td>\n",
       "      <td>57.0</td>\n",
       "      <td>41.0</td>\n",
       "      <td>1.3380</td>\n",
       "      <td>102</td>\n",
       "      <td>31</td>\n",
       "      <td>13</td>\n",
       "      <td>3.5</td>\n",
       "    </tr>\n",
       "    <tr>\n",
       "      <th>...</th>\n",
       "      <td>...</td>\n",
       "      <td>...</td>\n",
       "      <td>...</td>\n",
       "      <td>...</td>\n",
       "      <td>...</td>\n",
       "      <td>...</td>\n",
       "      <td>...</td>\n",
       "      <td>...</td>\n",
       "      <td>...</td>\n",
       "      <td>...</td>\n",
       "      <td>...</td>\n",
       "      <td>...</td>\n",
       "      <td>...</td>\n",
       "      <td>...</td>\n",
       "      <td>...</td>\n",
       "      <td>...</td>\n",
       "      <td>...</td>\n",
       "    </tr>\n",
       "    <tr>\n",
       "      <th>463</th>\n",
       "      <td>1</td>\n",
       "      <td>1.0</td>\n",
       "      <td>0</td>\n",
       "      <td>1</td>\n",
       "      <td>1</td>\n",
       "      <td>9.0</td>\n",
       "      <td>3.1</td>\n",
       "      <td>2.1</td>\n",
       "      <td>6.0</td>\n",
       "      <td>20.0</td>\n",
       "      <td>57.0</td>\n",
       "      <td>34.0</td>\n",
       "      <td>1.3395</td>\n",
       "      <td>112</td>\n",
       "      <td>52</td>\n",
       "      <td>28</td>\n",
       "      <td>4.5</td>\n",
       "    </tr>\n",
       "    <tr>\n",
       "      <th>464</th>\n",
       "      <td>0</td>\n",
       "      <td>1.0</td>\n",
       "      <td>0</td>\n",
       "      <td>1</td>\n",
       "      <td>0</td>\n",
       "      <td>9.7</td>\n",
       "      <td>3.1</td>\n",
       "      <td>2.1</td>\n",
       "      <td>5.0</td>\n",
       "      <td>20.0</td>\n",
       "      <td>57.0</td>\n",
       "      <td>40.0</td>\n",
       "      <td>1.3410</td>\n",
       "      <td>107</td>\n",
       "      <td>41</td>\n",
       "      <td>19</td>\n",
       "      <td>5.5</td>\n",
       "    </tr>\n",
       "    <tr>\n",
       "      <th>465</th>\n",
       "      <td>0</td>\n",
       "      <td>1.0</td>\n",
       "      <td>1</td>\n",
       "      <td>1</td>\n",
       "      <td>1</td>\n",
       "      <td>7.3</td>\n",
       "      <td>2.9</td>\n",
       "      <td>1.8</td>\n",
       "      <td>5.0</td>\n",
       "      <td>23.0</td>\n",
       "      <td>55.0</td>\n",
       "      <td>42.0</td>\n",
       "      <td>1.3417</td>\n",
       "      <td>102</td>\n",
       "      <td>37</td>\n",
       "      <td>19</td>\n",
       "      <td>6.0</td>\n",
       "    </tr>\n",
       "    <tr>\n",
       "      <th>466</th>\n",
       "      <td>0</td>\n",
       "      <td>0.0</td>\n",
       "      <td>1</td>\n",
       "      <td>1</td>\n",
       "      <td>0</td>\n",
       "      <td>8.1</td>\n",
       "      <td>2.9</td>\n",
       "      <td>2.1</td>\n",
       "      <td>6.0</td>\n",
       "      <td>20.0</td>\n",
       "      <td>57.0</td>\n",
       "      <td>40.0</td>\n",
       "      <td>1.3395</td>\n",
       "      <td>97</td>\n",
       "      <td>26</td>\n",
       "      <td>8</td>\n",
       "      <td>4.5</td>\n",
       "    </tr>\n",
       "    <tr>\n",
       "      <th>467</th>\n",
       "      <td>1</td>\n",
       "      <td>1.0</td>\n",
       "      <td>0</td>\n",
       "      <td>1</td>\n",
       "      <td>1</td>\n",
       "      <td>6.5</td>\n",
       "      <td>2.8</td>\n",
       "      <td>1.8</td>\n",
       "      <td>6.0</td>\n",
       "      <td>20.0</td>\n",
       "      <td>57.0</td>\n",
       "      <td>41.0</td>\n",
       "      <td>1.3380</td>\n",
       "      <td>104</td>\n",
       "      <td>33</td>\n",
       "      <td>11</td>\n",
       "      <td>3.5</td>\n",
       "    </tr>\n",
       "  </tbody>\n",
       "</table>\n",
       "<p>468 rows × 17 columns</p>\n",
       "</div>"
      ],
      "text/plain": [
       "     pedicle  black_spot  green_or_yellow  tip  folds  weight  length  width  \\\n",
       "0          0         1.0                1    1      1    16.6     3.8    2.8   \n",
       "1          0         0.0                0    0      1     7.6     2.5    2.3   \n",
       "2          0         0.0                1    0      0     6.5     2.1    1.9   \n",
       "3          1         0.0                1    0      0    11.3     3.1    2.6   \n",
       "4          1         1.0                0    0      0     9.2     2.7    2.1   \n",
       "..       ...         ...              ...  ...    ...     ...     ...    ...   \n",
       "463        1         1.0                0    1      1     9.0     3.1    2.1   \n",
       "464        0         1.0                0    1      0     9.7     3.1    2.1   \n",
       "465        0         1.0                1    1      1     7.3     2.9    1.8   \n",
       "466        0         0.0                1    1      0     8.1     2.9    2.1   \n",
       "467        1         1.0                0    1      1     6.5     2.8    1.8   \n",
       "\n",
       "     white  moisture   oil  elasticity  refraction    r   g   b  sweetness  \n",
       "0      3.0      21.0  57.0        41.0      1.3417   99  40  24        6.0  \n",
       "1      3.0      20.0  57.0        41.0      1.3417  104  45  29        6.0  \n",
       "2      5.0      21.0  57.0        41.0      1.3373  131  46  17        3.0  \n",
       "3      3.0      20.0  57.0        41.0      1.3364  118  38  15        2.5  \n",
       "4      5.0      20.0  57.0        41.0      1.3380  102  31  13        3.5  \n",
       "..     ...       ...   ...         ...         ...  ...  ..  ..        ...  \n",
       "463    6.0      20.0  57.0        34.0      1.3395  112  52  28        4.5  \n",
       "464    5.0      20.0  57.0        40.0      1.3410  107  41  19        5.5  \n",
       "465    5.0      23.0  55.0        42.0      1.3417  102  37  19        6.0  \n",
       "466    6.0      20.0  57.0        40.0      1.3395   97  26   8        4.5  \n",
       "467    6.0      20.0  57.0        41.0      1.3380  104  33  11        3.5  \n",
       "\n",
       "[468 rows x 17 columns]"
      ]
     },
     "execution_count": 8,
     "metadata": {},
     "output_type": "execute_result"
    }
   ],
   "source": [
    "df = pd.read_csv('ML.csv')  \n",
    "pd.set_option('display.max_columns', None)\n",
    "pd.set_option('display.max_rows', 10)\n",
    "\n",
    "dfremovenum=df.iloc[:,1:]\n",
    "dfremovenum"
   ]
  },
  {
   "cell_type": "code",
   "execution_count": 9,
   "metadata": {},
   "outputs": [],
   "source": [
    "imp=SimpleImputer(missing_values=np.nan,strategy='mean', verbose=0, copy=True)\n",
    "dfmissing=imp.fit_transform(dfremovenum)\n",
    "#print(dfmissing)\n",
    "x = dfmissing[:, :-1]\n",
    "y = dfmissing[:,-1]"
   ]
  },
  {
   "cell_type": "code",
   "execution_count": 10,
   "metadata": {},
   "outputs": [
    {
     "data": {
      "text/plain": [
       "array([[-0.93782625,  0.97776156,  1.04816731, ..., -0.99802202,\n",
       "        -0.28007634,  0.17594907],\n",
       "       [-0.93782625, -1.02493427, -0.95404616, ..., -0.46628898,\n",
       "         0.26607252,  0.92182014],\n",
       "       [-0.93782625, -1.02493427,  1.04816731, ...,  2.40506947,\n",
       "         0.37530229, -0.86827043],\n",
       "       ...,\n",
       "       [-0.93782625,  0.97776156,  1.04816731, ..., -0.6789822 ,\n",
       "        -0.60776565, -0.569922  ],\n",
       "       [-0.93782625, -1.02493427,  1.04816731, ..., -1.21071524,\n",
       "        -1.80929314, -2.21083836],\n",
       "       [ 1.0662956 ,  0.97776156, -0.95404616, ..., -0.46628898,\n",
       "        -1.04468474, -1.76331571]])"
      ]
     },
     "execution_count": 10,
     "metadata": {},
     "output_type": "execute_result"
    }
   ],
   "source": [
    "xscaled = preprocess.scale(x)\n",
    "xscaled"
   ]
  },
  {
   "cell_type": "code",
   "execution_count": 11,
   "metadata": {
    "scrolled": true
   },
   "outputs": [
    {
     "name": "stdout",
     "output_type": "stream",
     "text": [
      "[2.5 3.  3.5 4.  4.5 5.  5.5 6.  6.5 7.  7.5 8.  8.5 9.  9.5] [ 4  4 17 50 77 92 81 65 32 21 12  6  4  2  1]\n"
     ]
    }
   ],
   "source": [
    "unique,counts=np.unique(y,return_counts=True)\n",
    "print(unique,counts)"
   ]
  },
  {
   "cell_type": "markdown",
   "metadata": {},
   "source": [
    "酸度0 小於等於4<br>\n",
    "酸度1 4.5-5.0<br>\n",
    "酸度2 5.5-6.0<br>\n",
    "酸度3 6.5-7.0<br>\n",
    "酸度4 大於等於7.5<br>"
   ]
  },
  {
   "cell_type": "code",
   "execution_count": 12,
   "metadata": {},
   "outputs": [],
   "source": [
    "yflevel=np.array([], dtype=int)\n",
    "for i in y:\n",
    "    if i <= 4.2:\n",
    "        yflevel = np.append(yflevel, 0)\n",
    "    elif i<=5.2:\n",
    "        yflevel = np.append(yflevel, 1)\n",
    "    elif i<=6.2:\n",
    "        yflevel = np.append(yflevel, 2)\n",
    "    elif i<=7.2:\n",
    "        yflevel = np.append(yflevel, 3)\n",
    "    else:\n",
    "        yflevel = np.append(yflevel, 4)\n",
    "#print(yflevel)"
   ]
  },
  {
   "cell_type": "markdown",
   "metadata": {},
   "source": [
    "## Part 2 : Show Data Distribution with Data Visualization\n",
    "\n",
    "---\n",
    "1. 先繪出每個feature的數值分布\n",
    "\n",
    "2. 再依照甜度等級，繪出每個feature的數值分布\n",
    "\n",
    "---\n",
    "### 每個feature中的數值分布:"
   ]
  },
  {
   "cell_type": "code",
   "execution_count": 13,
   "metadata": {},
   "outputs": [
    {
     "name": "stderr",
     "output_type": "stream",
     "text": [
      "D:\\Anaconda3\\lib\\site-packages\\numpy\\lib\\histograms.py:839: RuntimeWarning: invalid value encountered in greater_equal\n",
      "  keep = (tmp_a >= first_edge)\n",
      "D:\\Anaconda3\\lib\\site-packages\\numpy\\lib\\histograms.py:840: RuntimeWarning: invalid value encountered in less_equal\n",
      "  keep &= (tmp_a <= last_edge)\n"
     ]
    },
    {
     "data": {
      "text/plain": [
       "<matplotlib.lines.Line2D at 0x2377840e4f0>"
      ]
     },
     "execution_count": 13,
     "metadata": {},
     "output_type": "execute_result"
    },
    {
     "data": {
      "image/png": "[encoded data removed]",
      "text/plain": [
       "<Figure size 1152x2160 with 16 Axes>"
      ]
     },
     "metadata": {
      "needs_background": "light"
     },
     "output_type": "display_data"
    }
   ],
   "source": [
    "plt.figure(figsize=(16,30))\n",
    "plt.subplot(8,2,1)\n",
    "dfremovenum['pedicle'].value_counts().plot.bar(color='plum', title=\"pedicle\")\n",
    "plt.subplot(8,2,2)\n",
    "dfremovenum['black_spot'].value_counts().plot.bar(color='plum', title=\"black_spot\")\n",
    "plt.subplot(8,2,3)\n",
    "dfremovenum['green_or_yellow'].value_counts().plot.bar(color='plum', title=\"green_or_yellow\")\n",
    "plt.subplot(8,2,4)\n",
    "dfremovenum['tip'].value_counts().plot.bar(color='plum', title=\"tip\")\n",
    "plt.subplot(8,2,5)\n",
    "dfremovenum['folds'].value_counts().plot.bar(color='plum', title=\"folds\")\n",
    "\n",
    "plt.subplot(8,2,6)\n",
    "plt.hist(dfremovenum['weight'], bins=15, color='lightblue')\n",
    "plt.xlabel('weight')\n",
    "plt.axvline(x=dfremovenum['weight'].mean())\n",
    "\n",
    "plt.subplot(8,2,7)\n",
    "plt.hist(dfremovenum['length'], bins=15, color='lightblue')\n",
    "plt.xlabel('length')\n",
    "plt.axvline(x=dfremovenum['length'].mean())\n",
    "\n",
    "plt.subplot(8,2,8) \n",
    "plt.hist(dfremovenum['width'], bins=15, color='lightblue')\n",
    "plt.xlabel('width')\n",
    "plt.axvline(x=dfremovenum['width'].mean())\n",
    "\n",
    "plt.subplot(8,2,9) \n",
    "plt.hist(dfremovenum['white'], bins=15, color='lightblue')\n",
    "plt.xlabel('white')\n",
    "plt.axvline(x=dfremovenum['white'].mean())\n",
    "\n",
    "plt.subplot(8,2,10) \n",
    "plt.hist(dfremovenum['moisture'], bins=15, color='lightblue')\n",
    "plt.xlabel('moisture')\n",
    "plt.axvline(x=dfremovenum['moisture'].mean())\n",
    "\n",
    "plt.subplot(8,2,11) \n",
    "plt.hist(dfremovenum['oil'], bins=15, color='lightblue')\n",
    "plt.xlabel('oil')\n",
    "plt.axvline(x=dfremovenum['oil'].mean())\n",
    "\n",
    "plt.subplot(8,2,12) \n",
    "plt.hist(dfremovenum['elasticity'], bins=15, color='lightblue')\n",
    "plt.xlabel('elasticity')\n",
    "plt.axvline(x=dfremovenum['elasticity'].mean())\n",
    "\n",
    "plt.subplot(8,2,13) \n",
    "plt.hist(dfremovenum['refraction'], bins=15, color='lightblue')\n",
    "plt.xlabel('refraction')\n",
    "plt.axvline(x=dfremovenum['refraction'].mean())\n",
    "\n",
    "plt.subplot(8,2,14) \n",
    "plt.hist(dfremovenum['r'], bins=15, color='lightblue')\n",
    "plt.xlabel('r')\n",
    "plt.axvline(x=dfremovenum['r'].mean())\n",
    "\n",
    "plt.subplot(8,2,15) \n",
    "plt.hist(dfremovenum['g'], bins=15, color='lightblue')\n",
    "plt.xlabel('g')\n",
    "plt.axvline(x=dfremovenum['g'].mean())\n",
    "\n",
    "plt.subplot(8,2,16) \n",
    "plt.hist(dfremovenum['b'], bins=15, color='lightblue')\n",
    "plt.xlabel('b')\n",
    "plt.axvline(x=dfremovenum['b'].mean())"
   ]
  },
  {
   "cell_type": "markdown",
   "metadata": {},
   "source": [
    "#### 依據不同的甜度等級來看數值分布:\n",
    "##### 先把dataframe改成方便繪圖的樣子"
   ]
  },
  {
   "cell_type": "code",
   "execution_count": 14,
   "metadata": {},
   "outputs": [],
   "source": [
    "df = dfremovenum.drop(['sweetness'], axis=1)\n",
    "df['sweetness']=yflevel"
   ]
  },
  {
   "cell_type": "markdown",
   "metadata": {},
   "source": [
    "##### 作圖:先畫類型是非數值的feature"
   ]
  },
  {
   "cell_type": "code",
   "execution_count": 15,
   "metadata": {},
   "outputs": [
    {
     "data": {
      "text/plain": [
       "<seaborn.axisgrid.FacetGrid at 0x2377810fc10>"
      ]
     },
     "execution_count": 15,
     "metadata": {},
     "output_type": "execute_result"
    },
    {
     "data": {
      "image/png": "[encoded data removed]",
      "text/plain": [
       "<Figure size 1296x288 with 5 Axes>"
      ]
     },
     "metadata": {
      "needs_background": "light"
     },
     "output_type": "display_data"
    },
    {
     "data": {
      "image/png": "[encoded data removed]",
      "text/plain": [
       "<Figure size 1296x288 with 5 Axes>"
      ]
     },
     "metadata": {
      "needs_background": "light"
     },
     "output_type": "display_data"
    },
    {
     "data": {
      "image/png": "[encoded data removed]",
      "text/plain": [
       "<Figure size 1296x288 with 5 Axes>"
      ]
     },
     "metadata": {
      "needs_background": "light"
     },
     "output_type": "display_data"
    },
    {
     "data": {
      "image/png": "[encoded data removed]",
      "text/plain": [
       "<Figure size 1296x288 with 5 Axes>"
      ]
     },
     "metadata": {
      "needs_background": "light"
     },
     "output_type": "display_data"
    },
    {
     "data": {
      "image/png": "[encoded data removed]",
      "text/plain": [
       "<Figure size 1296x288 with 5 Axes>"
      ]
     },
     "metadata": {
      "needs_background": "light"
     },
     "output_type": "display_data"
    }
   ],
   "source": [
    "sns.catplot(x='pedicle', data=df, col='sweetness', kind='count', color='yellow', height=4, aspect=.9)\n",
    "sns.catplot(x='black_spot', data=df, col='sweetness', kind='count', color='yellow', height=4, aspect=.9)\n",
    "sns.catplot(x='green_or_yellow', data=df, col='sweetness', kind='count', color='yellow', height=4, aspect=.9)\n",
    "sns.catplot(x='tip', data=df, col='sweetness', kind='count', color='yellow', height=4, aspect=.9)\n",
    "sns.catplot(x='folds', data=df, col='sweetness', kind='count', color='yellow', height=4, aspect=.9)"
   ]
  },
  {
   "cell_type": "markdown",
   "metadata": {},
   "source": [
    "##### 作圖:再畫類型是數值型的feature"
   ]
  },
  {
   "cell_type": "code",
   "execution_count": 10,
   "metadata": {},
   "outputs": [
    {
     "data": {
      "text/plain": [
       "<seaborn.axisgrid.FacetGrid at 0x7ffe791d8040>"
      ]
     },
     "execution_count": 10,
     "metadata": {},
     "output_type": "execute_result"
    },
    {
     "data": {
      "image/png": "[encoded data removed]",
      "text/plain": [
       "<Figure size 810x180 with 5 Axes>"
      ]
     },
     "metadata": {
      "needs_background": "light"
     },
     "output_type": "display_data"
    },
    {
     "data": {
      "image/png": "[encoded data removed]",
      "text/plain": [
       "<Figure size 810x180 with 5 Axes>"
      ]
     },
     "metadata": {
      "needs_background": "light"
     },
     "output_type": "display_data"
    },
    {
     "data": {
      "image/png": "[encoded data removed]",
      "text/plain": [
       "<Figure size 810x180 with 5 Axes>"
      ]
     },
     "metadata": {
      "needs_background": "light"
     },
     "output_type": "display_data"
    },
    {
     "data": {
      "image/png": "[encoded data removed]",
      "text/plain": [
       "<Figure size 810x180 with 5 Axes>"
      ]
     },
     "metadata": {
      "needs_background": "light"
     },
     "output_type": "display_data"
    },
    {
     "data": {
      "image/png": "[encoded data removed]",
      "text/plain": [
       "<Figure size 810x180 with 5 Axes>"
      ]
     },
     "metadata": {
      "needs_background": "light"
     },
     "output_type": "display_data"
    },
    {
     "data": {
      "image/png": "[encoded data removed]",
      "text/plain": [
       "<Figure size 810x180 with 5 Axes>"
      ]
     },
     "metadata": {
      "needs_background": "light"
     },
     "output_type": "display_data"
    },
    {
     "data": {
      "image/png": "[encoded data removed]",
      "text/plain": [
       "<Figure size 810x180 with 5 Axes>"
      ]
     },
     "metadata": {
      "needs_background": "light"
     },
     "output_type": "display_data"
    },
    {
     "data": {
      "image/png": "[encoded data removed]",
      "text/plain": [
       "<Figure size 810x180 with 5 Axes>"
      ]
     },
     "metadata": {
      "needs_background": "light"
     },
     "output_type": "display_data"
    },
    {
     "data": {
      "image/png": "[encoded data removed]",
      "text/plain": [
       "<Figure size 810x180 with 5 Axes>"
      ]
     },
     "metadata": {
      "needs_background": "light"
     },
     "output_type": "display_data"
    },
    {
     "data": {
      "image/png": "[encoded data removed]",
      "text/plain": [
       "<Figure size 810x180 with 5 Axes>"
      ]
     },
     "metadata": {
      "needs_background": "light"
     },
     "output_type": "display_data"
    },
    {
     "data": {
      "image/png": "[encoded data removed]",
      "text/plain": [
       "<Figure size 810x180 with 5 Axes>"
      ]
     },
     "metadata": {
      "needs_background": "light"
     },
     "output_type": "display_data"
    }
   ],
   "source": [
    "sns.catplot(x='weight', data=df, col='sweetness', kind='box', color='sandybrown', height=2.5, aspect=.9)\n",
    "sns.catplot(x='length', data=df, col='sweetness', kind='box', color='sandybrown', height=2.5, aspect=.9)\n",
    "sns.catplot(x='width', data=df, col='sweetness', kind='box', color='sandybrown', height=2.5, aspect=.9)\n",
    "sns.catplot(x='white', data=df, col='sweetness', kind='box', color='sandybrown', height=2.5, aspect=.9)\n",
    "sns.catplot(x='moisture', data=df, col='sweetness', kind='box', color='sandybrown', height=2.5, aspect=.9)\n",
    "sns.catplot(x='oil', data=df, col='sweetness', kind='box', color='sandybrown', height=2.5, aspect=.9)\n",
    "sns.catplot(x='elasticity', data=df, col='sweetness', kind='box', color='sandybrown', height=2.5, aspect=.9)\n",
    "sns.catplot(x='refraction', data=df, col='sweetness', kind='box', color='sandybrown', height=2.5, aspect=.9)\n",
    "sns.catplot(x='r', data=df, col='sweetness', kind='box', color='sandybrown', height=2.5, aspect=.9)\n",
    "sns.catplot(x='g', data=df, col='sweetness', kind='box', color='sandybrown', height=2.5, aspect=.9)\n",
    "sns.catplot(x='b', data=df, col='sweetness', kind='box', color='sandybrown', height=2.5, aspect=.9)"
   ]
  },
  {
   "cell_type": "markdown",
   "metadata": {},
   "source": [
    "## Part 3 : Building Models\n",
    "### 分別實作以下五種模型，並各自比較結果\n",
    "---\n",
    "1. KNN\n",
    "2. Linear Regression\n",
    "3. Guassian\n",
    "4. Random Forest\n",
    "5. Logistic Regression\n",
    "---"
   ]
  },
  {
   "cell_type": "markdown",
   "metadata": {},
   "source": [
    "### 1. KNN:"
   ]
  },
  {
   "cell_type": "markdown",
   "metadata": {},
   "source": [
    "#### Validation: 用Hold-out validation, ratio = 7:3\n",
    "#### 試驗neighbors=5, 7, 9的不同情況"
   ]
  },
  {
   "cell_type": "code",
   "execution_count": 12,
   "metadata": {},
   "outputs": [],
   "source": [
    "x_train, x_test, y_train, y_test = train_test_split(xscaled, yflevel, train_size=0.7)\n",
    "\n",
    "# set neighbors=5\n",
    "clf = KNeighborsClassifier(n_neighbors=5)\n",
    "clf.fit(x_train, y_train)\n",
    "predict_knn = clf.predict(x_test)\n",
    "accuracy_knn5 = accuracy_score(y_test, predict_knn)\n",
    "precision_knn5 = precision_score(y_test, predict_knn, average='weighted')\n",
    "recall_knn5 = recall_score(y_test, predict_knn, average='weighted')\n",
    "error_knn5 = mean_absolute_error(y_test, predict_knn)\n",
    "matrix_knn5 = confusion_matrix(y_test, predict_knn)\n",
    "\n",
    "# set neighbors=7\n",
    "clf = KNeighborsClassifier(n_neighbors=7)\n",
    "clf.fit(x_train, y_train)\n",
    "predict_knn = clf.predict(x_test)\n",
    "accuracy_knn7 = accuracy_score(y_test, predict_knn)\n",
    "precision_knn7 = precision_score(y_test, predict_knn, average='weighted')\n",
    "recall_knn7 = recall_score(y_test, predict_knn, average='weighted')\n",
    "error_knn7 = mean_absolute_error(y_test, predict_knn)\n",
    "matrix_knn7 = confusion_matrix(y_test, predict_knn)\n",
    "\n",
    "# set neighbors=9\n",
    "clf = KNeighborsClassifier(n_neighbors=9)\n",
    "clf.fit(x_train, y_train)\n",
    "predict_knn = clf.predict(x_test)\n",
    "accuracy_knn9 = accuracy_score(y_test, predict_knn)\n",
    "precision_knn9 = precision_score(y_test, predict_knn, average='weighted')\n",
    "recall_knn9 = recall_score(y_test, predict_knn, average='weighted')\n",
    "error_knn9 = mean_absolute_error(y_test, predict_knn)\n",
    "matrix_knn9 = confusion_matrix(y_test, predict_knn)"
   ]
  },
  {
   "cell_type": "markdown",
   "metadata": {},
   "source": [
    "#### Result:\n",
    "#### 列出三種K值時的accuracy, recall, precision, mean absolute error, confusion matrix"
   ]
  },
  {
   "cell_type": "code",
   "execution_count": 13,
   "metadata": {},
   "outputs": [
    {
     "name": "stdout",
     "output_type": "stream",
     "text": [
      "Result for KNN:\n",
      "     accuracy    recall precision mean_absolute_error\n",
      "K=5  0.375887  0.375887  0.370288            0.808511\n",
      "K=7  0.382979  0.382979  0.374057            0.815603\n",
      "K=9  0.397163  0.397163  0.384026            0.794326\n",
      "\n",
      "Confusion Matrix with K=5:\n",
      "[[ 4 18  5  1  1]\n",
      " [11 26 12  1  0]\n",
      " [ 1 20 18  1  0]\n",
      " [ 1  5  3  3  1]\n",
      " [ 0  1  5  1  2]]\n",
      "\n",
      "Confusion Matrix with K=7:\n",
      "[[ 4 18  5  1  1]\n",
      " [ 5 30 14  1  0]\n",
      " [ 1 20 16  3  0]\n",
      " [ 1  7  1  2  2]\n",
      " [ 0  1  5  1  2]]\n",
      "\n",
      "Confusion Matrix with K=9:\n",
      "[[ 4 17  6  1  1]\n",
      " [ 6 30 13  1  0]\n",
      " [ 1 21 18  0  0]\n",
      " [ 1  7  3  1  1]\n",
      " [ 0  1  3  2  3]]\n"
     ]
    }
   ],
   "source": [
    "print(\"Result for KNN:\")\n",
    "table_knn = pd.DataFrame(columns=['accuracy', 'recall', 'precision', 'mean_absolute_error'], index=['K=5', 'K=7', 'K=9'])\n",
    "table_knn['accuracy']['K=5'] = accuracy_knn5\n",
    "table_knn['recall']['K=5'] = recall_knn5\n",
    "table_knn['precision']['K=5'] = precision_knn5\n",
    "table_knn['mean_absolute_error']['K=5'] = error_knn5\n",
    "table_knn['accuracy']['K=7'] = accuracy_knn7\n",
    "table_knn['recall']['K=7'] = recall_knn7\n",
    "table_knn['precision']['K=7'] = precision_knn7\n",
    "table_knn['mean_absolute_error']['K=7'] = error_knn7\n",
    "table_knn['accuracy']['K=9'] = accuracy_knn9\n",
    "table_knn['recall']['K=9'] = recall_knn9\n",
    "table_knn['precision']['K=9'] = precision_knn9\n",
    "table_knn['mean_absolute_error']['K=9'] = error_knn9\n",
    "print(table_knn)\n",
    "\n",
    "print(\"\\nConfusion Matrix with K=5:\")\n",
    "print(matrix_knn5)\n",
    "print(\"\\nConfusion Matrix with K=7:\")\n",
    "print(matrix_knn7)\n",
    "print(\"\\nConfusion Matrix with K=9:\")\n",
    "print(matrix_knn9)"
   ]
  },
  {
   "cell_type": "markdown",
   "metadata": {},
   "source": [
    "### 2. Linear Regression"
   ]
  },
  {
   "cell_type": "markdown",
   "metadata": {},
   "source": [
    "#### 去計算每個變數中間的彼此依存度 ，可以發現就我們的數據基本上只有rg的正向關係比較大，其餘的資料彼此的依存度都很低"
   ]
  },
  {
   "cell_type": "code",
   "execution_count": 15,
   "metadata": {},
   "outputs": [
    {
     "data": {
      "text/html": [
       "<div>\n",
       "<style scoped>\n",
       "    .dataframe tbody tr th:only-of-type {\n",
       "        vertical-align: middle;\n",
       "    }\n",
       "\n",
       "    .dataframe tbody tr th {\n",
       "        vertical-align: top;\n",
       "    }\n",
       "\n",
       "    .dataframe thead th {\n",
       "        text-align: right;\n",
       "    }\n",
       "</style>\n",
       "<table border=\"1\" class=\"dataframe\">\n",
       "  <thead>\n",
       "    <tr style=\"text-align: right;\">\n",
       "      <th></th>\n",
       "      <th>pedicle</th>\n",
       "      <th>black_spot</th>\n",
       "      <th>green_or_yellow</th>\n",
       "      <th>tip</th>\n",
       "      <th>folds</th>\n",
       "      <th>weight</th>\n",
       "      <th>length</th>\n",
       "      <th>width</th>\n",
       "      <th>white</th>\n",
       "      <th>moisture</th>\n",
       "      <th>oil</th>\n",
       "      <th>elasticity</th>\n",
       "      <th>refraction</th>\n",
       "      <th>r</th>\n",
       "      <th>g</th>\n",
       "      <th>b</th>\n",
       "      <th>sweetness</th>\n",
       "    </tr>\n",
       "  </thead>\n",
       "  <tbody>\n",
       "    <tr>\n",
       "      <th>pedicle</th>\n",
       "      <td>1.000000</td>\n",
       "      <td>0.072319</td>\n",
       "      <td>0.117015</td>\n",
       "      <td>-0.006232</td>\n",
       "      <td>-0.001055</td>\n",
       "      <td>0.180742</td>\n",
       "      <td>0.039924</td>\n",
       "      <td>0.054260</td>\n",
       "      <td>-0.005026</td>\n",
       "      <td>0.011374</td>\n",
       "      <td>0.018280</td>\n",
       "      <td>-0.041159</td>\n",
       "      <td>0.049830</td>\n",
       "      <td>0.054999</td>\n",
       "      <td>0.088154</td>\n",
       "      <td>0.062800</td>\n",
       "      <td>0.036269</td>\n",
       "    </tr>\n",
       "    <tr>\n",
       "      <th>black_spot</th>\n",
       "      <td>0.072319</td>\n",
       "      <td>1.000000</td>\n",
       "      <td>0.020438</td>\n",
       "      <td>0.005999</td>\n",
       "      <td>0.261030</td>\n",
       "      <td>0.078386</td>\n",
       "      <td>0.011793</td>\n",
       "      <td>0.070876</td>\n",
       "      <td>-0.049712</td>\n",
       "      <td>-0.036620</td>\n",
       "      <td>0.057739</td>\n",
       "      <td>-0.015558</td>\n",
       "      <td>0.064120</td>\n",
       "      <td>-0.071693</td>\n",
       "      <td>-0.048402</td>\n",
       "      <td>-0.067316</td>\n",
       "      <td>0.043705</td>\n",
       "    </tr>\n",
       "    <tr>\n",
       "      <th>green_or_yellow</th>\n",
       "      <td>0.117015</td>\n",
       "      <td>0.020438</td>\n",
       "      <td>1.000000</td>\n",
       "      <td>-0.003409</td>\n",
       "      <td>-0.076350</td>\n",
       "      <td>0.217594</td>\n",
       "      <td>0.165007</td>\n",
       "      <td>0.134835</td>\n",
       "      <td>0.050058</td>\n",
       "      <td>0.099195</td>\n",
       "      <td>-0.097578</td>\n",
       "      <td>0.078018</td>\n",
       "      <td>-0.064274</td>\n",
       "      <td>0.105659</td>\n",
       "      <td>0.020190</td>\n",
       "      <td>-0.053593</td>\n",
       "      <td>-0.179793</td>\n",
       "    </tr>\n",
       "    <tr>\n",
       "      <th>tip</th>\n",
       "      <td>-0.006232</td>\n",
       "      <td>0.005999</td>\n",
       "      <td>-0.003409</td>\n",
       "      <td>1.000000</td>\n",
       "      <td>0.093371</td>\n",
       "      <td>-0.284115</td>\n",
       "      <td>0.242485</td>\n",
       "      <td>-0.249982</td>\n",
       "      <td>-0.068419</td>\n",
       "      <td>-0.057848</td>\n",
       "      <td>-0.080855</td>\n",
       "      <td>-0.128775</td>\n",
       "      <td>0.126478</td>\n",
       "      <td>-0.191321</td>\n",
       "      <td>-0.050886</td>\n",
       "      <td>-0.013452</td>\n",
       "      <td>0.170133</td>\n",
       "    </tr>\n",
       "    <tr>\n",
       "      <th>folds</th>\n",
       "      <td>-0.001055</td>\n",
       "      <td>0.261030</td>\n",
       "      <td>-0.076350</td>\n",
       "      <td>0.093371</td>\n",
       "      <td>1.000000</td>\n",
       "      <td>-0.038065</td>\n",
       "      <td>0.126484</td>\n",
       "      <td>-0.092489</td>\n",
       "      <td>-0.086953</td>\n",
       "      <td>-0.099389</td>\n",
       "      <td>-0.007229</td>\n",
       "      <td>-0.093078</td>\n",
       "      <td>0.160205</td>\n",
       "      <td>-0.088039</td>\n",
       "      <td>-0.035057</td>\n",
       "      <td>0.044951</td>\n",
       "      <td>0.319796</td>\n",
       "    </tr>\n",
       "    <tr>\n",
       "      <th>...</th>\n",
       "      <td>...</td>\n",
       "      <td>...</td>\n",
       "      <td>...</td>\n",
       "      <td>...</td>\n",
       "      <td>...</td>\n",
       "      <td>...</td>\n",
       "      <td>...</td>\n",
       "      <td>...</td>\n",
       "      <td>...</td>\n",
       "      <td>...</td>\n",
       "      <td>...</td>\n",
       "      <td>...</td>\n",
       "      <td>...</td>\n",
       "      <td>...</td>\n",
       "      <td>...</td>\n",
       "      <td>...</td>\n",
       "      <td>...</td>\n",
       "    </tr>\n",
       "    <tr>\n",
       "      <th>refraction</th>\n",
       "      <td>0.049830</td>\n",
       "      <td>0.064120</td>\n",
       "      <td>-0.064274</td>\n",
       "      <td>0.126478</td>\n",
       "      <td>0.160205</td>\n",
       "      <td>-0.141862</td>\n",
       "      <td>0.022564</td>\n",
       "      <td>-0.088084</td>\n",
       "      <td>-0.071473</td>\n",
       "      <td>-0.064924</td>\n",
       "      <td>0.005650</td>\n",
       "      <td>-0.052904</td>\n",
       "      <td>1.000000</td>\n",
       "      <td>-0.081106</td>\n",
       "      <td>-0.066993</td>\n",
       "      <td>0.039886</td>\n",
       "      <td>0.547929</td>\n",
       "    </tr>\n",
       "    <tr>\n",
       "      <th>r</th>\n",
       "      <td>0.054999</td>\n",
       "      <td>-0.071693</td>\n",
       "      <td>0.105659</td>\n",
       "      <td>-0.191321</td>\n",
       "      <td>-0.088039</td>\n",
       "      <td>0.201309</td>\n",
       "      <td>0.058729</td>\n",
       "      <td>0.112765</td>\n",
       "      <td>0.068170</td>\n",
       "      <td>0.118152</td>\n",
       "      <td>-0.025595</td>\n",
       "      <td>0.089948</td>\n",
       "      <td>-0.081106</td>\n",
       "      <td>1.000000</td>\n",
       "      <td>0.579085</td>\n",
       "      <td>0.408648</td>\n",
       "      <td>-0.175358</td>\n",
       "    </tr>\n",
       "    <tr>\n",
       "      <th>g</th>\n",
       "      <td>0.088154</td>\n",
       "      <td>-0.048402</td>\n",
       "      <td>0.020190</td>\n",
       "      <td>-0.050886</td>\n",
       "      <td>-0.035057</td>\n",
       "      <td>0.028830</td>\n",
       "      <td>-0.121657</td>\n",
       "      <td>0.039273</td>\n",
       "      <td>0.369811</td>\n",
       "      <td>0.032272</td>\n",
       "      <td>0.029924</td>\n",
       "      <td>0.047232</td>\n",
       "      <td>-0.066993</td>\n",
       "      <td>0.579085</td>\n",
       "      <td>1.000000</td>\n",
       "      <td>0.798537</td>\n",
       "      <td>-0.170099</td>\n",
       "    </tr>\n",
       "    <tr>\n",
       "      <th>b</th>\n",
       "      <td>0.062800</td>\n",
       "      <td>-0.067316</td>\n",
       "      <td>-0.053593</td>\n",
       "      <td>-0.013452</td>\n",
       "      <td>0.044951</td>\n",
       "      <td>-0.008570</td>\n",
       "      <td>-0.096481</td>\n",
       "      <td>0.013114</td>\n",
       "      <td>0.237250</td>\n",
       "      <td>-0.052926</td>\n",
       "      <td>0.059894</td>\n",
       "      <td>0.015178</td>\n",
       "      <td>0.039886</td>\n",
       "      <td>0.408648</td>\n",
       "      <td>0.798537</td>\n",
       "      <td>1.000000</td>\n",
       "      <td>0.052935</td>\n",
       "    </tr>\n",
       "    <tr>\n",
       "      <th>sweetness</th>\n",
       "      <td>0.036269</td>\n",
       "      <td>0.043705</td>\n",
       "      <td>-0.179793</td>\n",
       "      <td>0.170133</td>\n",
       "      <td>0.319796</td>\n",
       "      <td>-0.223927</td>\n",
       "      <td>0.055830</td>\n",
       "      <td>-0.161543</td>\n",
       "      <td>-0.135260</td>\n",
       "      <td>-0.089320</td>\n",
       "      <td>-0.016883</td>\n",
       "      <td>-0.083740</td>\n",
       "      <td>0.547929</td>\n",
       "      <td>-0.175358</td>\n",
       "      <td>-0.170099</td>\n",
       "      <td>0.052935</td>\n",
       "      <td>1.000000</td>\n",
       "    </tr>\n",
       "  </tbody>\n",
       "</table>\n",
       "<p>17 rows × 17 columns</p>\n",
       "</div>"
      ],
      "text/plain": [
       "                  pedicle  black_spot  green_or_yellow       tip     folds  \\\n",
       "pedicle          1.000000    0.072319         0.117015 -0.006232 -0.001055   \n",
       "black_spot       0.072319    1.000000         0.020438  0.005999  0.261030   \n",
       "green_or_yellow  0.117015    0.020438         1.000000 -0.003409 -0.076350   \n",
       "tip             -0.006232    0.005999        -0.003409  1.000000  0.093371   \n",
       "folds           -0.001055    0.261030        -0.076350  0.093371  1.000000   \n",
       "...                   ...         ...              ...       ...       ...   \n",
       "refraction       0.049830    0.064120        -0.064274  0.126478  0.160205   \n",
       "r                0.054999   -0.071693         0.105659 -0.191321 -0.088039   \n",
       "g                0.088154   -0.048402         0.020190 -0.050886 -0.035057   \n",
       "b                0.062800   -0.067316        -0.053593 -0.013452  0.044951   \n",
       "sweetness        0.036269    0.043705        -0.179793  0.170133  0.319796   \n",
       "\n",
       "                   weight    length     width     white  moisture       oil  \\\n",
       "pedicle          0.180742  0.039924  0.054260 -0.005026  0.011374  0.018280   \n",
       "black_spot       0.078386  0.011793  0.070876 -0.049712 -0.036620  0.057739   \n",
       "green_or_yellow  0.217594  0.165007  0.134835  0.050058  0.099195 -0.097578   \n",
       "tip             -0.284115  0.242485 -0.249982 -0.068419 -0.057848 -0.080855   \n",
       "folds           -0.038065  0.126484 -0.092489 -0.086953 -0.099389 -0.007229   \n",
       "...                   ...       ...       ...       ...       ...       ...   \n",
       "refraction      -0.141862  0.022564 -0.088084 -0.071473 -0.064924  0.005650   \n",
       "r                0.201309  0.058729  0.112765  0.068170  0.118152 -0.025595   \n",
       "g                0.028830 -0.121657  0.039273  0.369811  0.032272  0.029924   \n",
       "b               -0.008570 -0.096481  0.013114  0.237250 -0.052926  0.059894   \n",
       "sweetness       -0.223927  0.055830 -0.161543 -0.135260 -0.089320 -0.016883   \n",
       "\n",
       "                 elasticity  refraction         r         g         b  \\\n",
       "pedicle           -0.041159    0.049830  0.054999  0.088154  0.062800   \n",
       "black_spot        -0.015558    0.064120 -0.071693 -0.048402 -0.067316   \n",
       "green_or_yellow    0.078018   -0.064274  0.105659  0.020190 -0.053593   \n",
       "tip               -0.128775    0.126478 -0.191321 -0.050886 -0.013452   \n",
       "folds             -0.093078    0.160205 -0.088039 -0.035057  0.044951   \n",
       "...                     ...         ...       ...       ...       ...   \n",
       "refraction        -0.052904    1.000000 -0.081106 -0.066993  0.039886   \n",
       "r                  0.089948   -0.081106  1.000000  0.579085  0.408648   \n",
       "g                  0.047232   -0.066993  0.579085  1.000000  0.798537   \n",
       "b                  0.015178    0.039886  0.408648  0.798537  1.000000   \n",
       "sweetness         -0.083740    0.547929 -0.175358 -0.170099  0.052935   \n",
       "\n",
       "                 sweetness  \n",
       "pedicle           0.036269  \n",
       "black_spot        0.043705  \n",
       "green_or_yellow  -0.179793  \n",
       "tip               0.170133  \n",
       "folds             0.319796  \n",
       "...                    ...  \n",
       "refraction        0.547929  \n",
       "r                -0.175358  \n",
       "g                -0.170099  \n",
       "b                 0.052935  \n",
       "sweetness         1.000000  \n",
       "\n",
       "[17 rows x 17 columns]"
      ]
     },
     "metadata": {},
     "output_type": "display_data"
    },
    {
     "data": {
      "text/plain": [
       "<AxesSubplot:>"
      ]
     },
     "execution_count": 15,
     "metadata": {},
     "output_type": "execute_result"
    },
    {
     "data": {
      "image/png": "[encoded data removed]",
      "text/plain": [
       "<Figure size 432x288 with 2 Axes>"
      ]
     },
     "metadata": {
      "needs_background": "light"
     },
     "output_type": "display_data"
    }
   ],
   "source": [
    "pdmissing=pd.DataFrame(dfmissing)\n",
    "pdmissing.columns=dfremovenum.columns\n",
    "pdmissing.index=dfremovenum.index\n",
    "corr2 = pdmissing.corr()\n",
    "display(corr2)\n",
    "sns.heatmap(corr2,xticklabels=corr2.columns, yticklabels=corr2.columns ,cmap='RdBu')"
   ]
  },
  {
   "cell_type": "markdown",
   "metadata": {},
   "source": [
    "#### 使用 holdout 去切割測試資料"
   ]
  },
  {
   "cell_type": "code",
   "execution_count": 16,
   "metadata": {},
   "outputs": [],
   "source": [
    "X_train, X_test, y_train, y_test = train_test_split(x, yflevel, test_size=0.3, random_state=1)"
   ]
  },
  {
   "cell_type": "markdown",
   "metadata": {},
   "source": [
    "#### 使用四個不同的 k 值去使用 PolynomialFeatures 帶入 linear Regression Model <br> 以 k=1當作範例 分別輸出計算出來的常數項 以及每個變數前面的係數"
   ]
  },
  {
   "cell_type": "code",
   "execution_count": 17,
   "metadata": {},
   "outputs": [
    {
     "name": "stdout",
     "output_type": "stream",
     "text": [
      "model const:\n",
      "-147.5793625757237\n",
      "model coefficient:\n",
      "[ 1.79694363e-01 -1.66605288e-01 -1.56985388e-01 -1.26113832e-01\n",
      "  3.72399179e-01 -8.19757943e-02  4.31101311e-01 -1.27864866e-02\n",
      " -9.72097990e-03 -3.79409754e-02 -4.37751254e-02  3.43278938e-02\n",
      "  1.13334847e+02 -5.83755062e-03 -4.95746010e-02  5.92754217e-02]\n",
      "----------------------------------------------------------------------------------------------------\n"
     ]
    }
   ],
   "source": [
    "regression_model = LinearRegression()\n",
    "regression_model.fit(X_train, y_train)\n",
    "#intercept = regression_model.intercept_\n",
    "print('model const:')\n",
    "print(regression_model.intercept_)\n",
    "#coefficent = regression_model.coef_[0][0]\n",
    "print('model coefficient:')\n",
    "print(regression_model.coef_)\n",
    "#print(\"The intercept for our model is {:.4}\".format(intercept))\n",
    "print('-'*100)\n",
    "regression_model.score(X_train, y_train)\n",
    "trans = PolynomialFeatures(degree=1)\n",
    "xtrans1 = trans.fit_transform(X_train)\n",
    "xtest1 = trans.fit_transform(X_test)\n",
    "#print(xtrans1)\n",
    "trans = PolynomialFeatures(degree=2)\n",
    "xtrans2 = trans.fit_transform(X_train)\n",
    "xtest2 = trans.fit_transform(X_test)\n",
    "#print(xtrans2)\n",
    "trans = PolynomialFeatures(degree=3)\n",
    "xtrans3 = trans.fit_transform(X_train)\n",
    "xtest3 = trans.fit_transform(X_test)\n",
    "#print(xtrans3)\n",
    "trans = PolynomialFeatures(degree=4)\n",
    "xtrans4 = trans.fit_transform(X_train)\n",
    "xtest4 = trans.fit_transform(X_test)\n",
    "#print(xtrans4)\n",
    "\n"
   ]
  },
  {
   "cell_type": "markdown",
   "metadata": {},
   "source": [
    "#### 使用四個不同的 k 值去 fit  4種不同的模型，分別去做他們的誤差預測(使用 r squared) ，可以發現其實在 k=2 的狀態之後整個函數的 over fitting 相當嚴重，雖然 accuracy 相當高， 但是 對於霧拺的誤差值其實非常明顯。"
   ]
  },
  {
   "cell_type": "code",
   "execution_count": 18,
   "metadata": {},
   "outputs": [
    {
     "name": "stdout",
     "output_type": "stream",
     "text": [
      "Multiple Linear Regression\n",
      "bias\n",
      "degree1 0.39693612175669923\n",
      "degree2 0.9190819499284127\n",
      "degree3 1.0\n",
      "degree4 1.0\n",
      "variance\n",
      "degree1 0.36219952987252735\n",
      "degree2 -6.055918860925899\n",
      "degree3 -2650.2056835971575\n",
      "degree4 -155636.18098771136\n"
     ]
    }
   ],
   "source": [
    "reg1 = LinearRegression(fit_intercept=False).fit(xtrans1,y_train)\n",
    "ypredict1=reg1.predict(xtest1)\n",
    "yact1=reg1.predict(xtrans1)\n",
    "para1=reg1.coef_\n",
    "#print(para1.shape)\n",
    "reg2 = LinearRegression(fit_intercept=False).fit(xtrans2,y_train)\n",
    "para2=reg2.coef_\n",
    "#print(para2)\n",
    "ypredict2=reg2.predict(xtest2)\n",
    "yact2=reg2.predict(xtrans2)\n",
    "\n",
    "reg3 = LinearRegression(fit_intercept=False).fit(xtrans3, y_train)\n",
    "ypredict3=reg3.predict(xtest3)\n",
    "yact3=reg3.predict(xtrans3)\n",
    "\n",
    "para3=reg3.coef_\n",
    "reg4 = LinearRegression(fit_intercept=False).fit(xtrans4, y_train)\n",
    "ypredict4=reg4.predict(xtest4)\n",
    "yact4=reg4.predict(xtrans4)\n",
    "\n",
    "para4=reg4.coef_\n",
    "print('Multiple Linear Regression')\n",
    "print('bias')\n",
    "print('degree1',reg1.score(xtrans1, y_train))\n",
    "print('degree2',reg2.score(xtrans2, y_train))\n",
    "print('degree3',reg3.score(xtrans3, y_train))\n",
    "print('degree4',reg4.score(xtrans4, y_train))\n",
    "\n",
    "from sklearn.metrics import r2_score\n",
    "#print(ypredict2)\n",
    "#print(y_test)\n",
    "print('variance')\n",
    "print('degree1',r2_score(y_test, ypredict1))\n",
    "print('degree2',r2_score(y_test, ypredict2))\n",
    "print('degree3',r2_score(y_test, ypredict3))\n",
    "print('degree4',r2_score(y_test, ypredict4))\n"
   ]
  },
  {
   "cell_type": "markdown",
   "metadata": {},
   "source": [
    "#### 用圖去顯示 k=1  predict 與 measured 的分佈狀況"
   ]
  },
  {
   "cell_type": "code",
   "execution_count": 19,
   "metadata": {},
   "outputs": [
    {
     "data": {
      "image/png": "[encoded data removed]",
      "text/plain": [
       "<Figure size 432x288 with 1 Axes>"
      ]
     },
     "metadata": {
      "needs_background": "light"
     },
     "output_type": "display_data"
    }
   ],
   "source": [
    "fig, ax = plt.subplots()\n",
    "ax.scatter(y_test, ypredict1)\n",
    "ax.plot([y_test.min(), y_test.max()], [y_test.min(), y_test.max()], 'k--', lw=4)\n",
    "ax.set_xlabel('measured')\n",
    "ax.set_ylabel('predicted')\n",
    "plt.show()"
   ]
  },
  {
   "cell_type": "markdown",
   "metadata": {},
   "source": [
    "#### 用圖去顯示 k=3  predict 與 measured 的分佈狀況 可以發現 有少數極端的例子影響整個數值的分析表現"
   ]
  },
  {
   "cell_type": "code",
   "execution_count": 20,
   "metadata": {},
   "outputs": [
    {
     "data": {
      "image/png": "[encoded data removed]",
      "text/plain": [
       "<Figure size 432x288 with 1 Axes>"
      ]
     },
     "metadata": {
      "needs_background": "light"
     },
     "output_type": "display_data"
    }
   ],
   "source": [
    "fig, ax = plt.subplots()\n",
    "ax.scatter(y_test, ypredict3)\n",
    "ax.plot([y_test.min(), y_test.max()], [y_test.min(), y_test.max()], 'k--', lw=4)\n",
    "ax.set_xlabel('measured')\n",
    "ax.set_ylabel('predicted')\n",
    "plt.show()"
   ]
  },
  {
   "cell_type": "code",
   "execution_count": 21,
   "metadata": {},
   "outputs": [
    {
     "name": "stdout",
     "output_type": "stream",
     "text": [
      "看看每個變數之間的相互關係，避免 multicollinearity\n",
      "----------------------------------------------------------------------------------------------------\n"
     ]
    },
    {
     "data": {
      "text/plain": [
       "const              329127.454927\n",
       "pedicle                 1.098186\n",
       "black_spot              1.131818\n",
       "green_or_yellow         1.119757\n",
       "tip                     1.618275\n",
       "                       ...      \n",
       "refraction              1.444407\n",
       "r                       1.784708\n",
       "g                       4.541914\n",
       "b                       3.226922\n",
       "sweetness               1.853132\n",
       "Length: 18, dtype: float64"
      ]
     },
     "metadata": {},
     "output_type": "display_data"
    },
    {
     "name": "stdout",
     "output_type": "stream",
     "text": [
      "刪除超過三倍標準差的資料\n",
      "Int64Index([ 40,  52,  53,  82, 110, 134, 153, 155, 168, 173, 194, 199, 253,\n",
      "            316, 320, 355, 356, 404, 406, 407, 415, 463],\n",
      "           dtype='int64')\n"
     ]
    }
   ],
   "source": [
    "#dfremovenum.fit=preprocess.scale(dfremovenum)\n",
    "#print(dfremovenum)\n",
    "econ_df_before = pdmissing\n",
    "X1 = sm.tools.add_constant(econ_df_before)\n",
    "series_before = pd.Series([variance_inflation_factor(X1.values, i) for i in range(X1.shape[1])], index=X1.columns)\n",
    "print('看看每個變數之間的相互關係，避免 multicollinearity')\n",
    "print('-'*100)\n",
    "display(series_before)\n",
    "desc_df = pdmissing.describe()\n",
    "\n",
    "# add the standard deviation metric\n",
    "desc_df.loc['+3_std'] = desc_df.loc['mean'] + (desc_df.loc['std'] * 3)\n",
    "desc_df.loc['-3_std'] = desc_df.loc['mean'] - (desc_df.loc['std'] * 3)\n",
    "desc_df\n",
    "pdmissing_remove= pdmissing[(np.abs(stats.zscore(pdmissing)) < 3).all(axis=1)]\n",
    "print('刪除超過三倍標準差的資料')\n",
    "print(pdmissing.index.difference(pdmissing_remove.index))\n",
    "#print(pdmissing_remove)"
   ]
  },
  {
   "cell_type": "markdown",
   "metadata": {},
   "source": [
    "##### 刪除超過三倍標準差的極端資料值，讓整個模型（k=1）的預測更準確 ，可以發現整體預測的準確率提高到9成"
   ]
  },
  {
   "cell_type": "code",
   "execution_count": 22,
   "metadata": {},
   "outputs": [
    {
     "name": "stdout",
     "output_type": "stream",
     "text": [
      "after drop the extreme value\n",
      "bias\n",
      "0.874218915078801\n",
      "variance\n",
      "0.9030687397100223\n"
     ]
    }
   ],
   "source": [
    "valuedealed=pdmissing_remove.to_numpy()\n",
    "xdeal = valuedealed[:, :-1]\n",
    "ydeal = valuedealed[:,-1]\n",
    "ydealf=np.array([], dtype=int)\n",
    "for i in ydeal:\n",
    "    if i <= 4.2:\n",
    "        ydealf = np.append(ydealf, 0)\n",
    "    elif i<=5.2:\n",
    "        ydealf = np.append(ydealf, 1)\n",
    "    elif i<=6.2:\n",
    "        ydealf = np.append(ydealf, 2)\n",
    "    elif i<=7.2:\n",
    "        ydealf = np.append(ydealf, 3)\n",
    "    else:\n",
    "        ydealf = np.append(ydealf, 4)\n",
    "Xd_train, Xd_test, yd_train, yd_test = train_test_split(xdeal, ydealf, test_size=0.3, random_state=1)\n",
    "regression_model = LinearRegression()\n",
    "regression_model.fit(Xd_train, yd_train)\n",
    "print('after drop the extreme value')\n",
    "print('bias')\n",
    "print(regression_model.score(Xd_train, yd_train))\n",
    "yd_pred=regression_model.predict(Xd_test)\n",
    "print('variance')\n",
    "print(r2_score(yd_test, yd_pred))"
   ]
  },
  {
   "cell_type": "markdown",
   "metadata": {},
   "source": [
    "#### 用圖去顯示修正過後 k=1  predict 與 measured 的分佈狀況 "
   ]
  },
  {
   "cell_type": "code",
   "execution_count": 23,
   "metadata": {},
   "outputs": [
    {
     "data": {
      "image/png": "[encoded data removed]",
      "text/plain": [
       "<Figure size 432x288 with 1 Axes>"
      ]
     },
     "metadata": {
      "needs_background": "light"
     },
     "output_type": "display_data"
    }
   ],
   "source": [
    "fig, ax = plt.subplots()\n",
    "ax.scatter(yd_test, yd_pred)\n",
    "ax.plot([yd_test.min(), yd_test.max()], [yd_pred.min(), yd_pred.max()], 'k--', lw=4)\n",
    "ax.set_xlabel('measured')\n",
    "ax.set_ylabel('predicted')\n",
    "plt.show()"
   ]
  },
  {
   "cell_type": "markdown",
   "metadata": {},
   "source": [
    "### 3. Guassian "
   ]
  },
  {
   "cell_type": "code",
   "execution_count": 24,
   "metadata": {},
   "outputs": [],
   "source": [
    "def plot_confusion_matrix1(y_true, y_pred, classes,\n",
    "                          normalize=False,\n",
    "                          title=None,\n",
    "                          cmap=plt.cm.Blues):\n",
    "    \"\"\"\n",
    "    This function prints and plots the confusion matrix.\n",
    "    Normalization can be applied by setting `normalize=True`.\n",
    "    \"\"\"\n",
    "    if not title:\n",
    "        if normalize:\n",
    "            title = 'confusion matrix'\n",
    "        else:\n",
    "            title = 'Confusion matrix'\n",
    "\n",
    "    # Compute confusion matrix\n",
    "    cm = confusion_matrix(y_true, y_pred)\n",
    "    # Only use the labels that appear in the data\n",
    "    #classes = classes[unique_labels(y_true, y_pred)]\n",
    "    if normalize:\n",
    "        cm = cm.astype('float') / cm.sum(axis=1)[:, np.newaxis]\n",
    "        print(\"confusion matrix\")\n",
    "    else:\n",
    "        print('Confusion matrix')\n",
    "\n",
    "    print(cm)\n",
    "\n",
    "    fig, ax = plt.subplots()\n",
    "    im = ax.imshow(cm, interpolation='nearest', cmap=cmap)\n",
    "    ax.figure.colorbar(im, ax=ax)\n",
    "    # We want to show all ticks...\n",
    "    ax.set(xticks=np.arange(cm.shape[1]),\n",
    "           yticks=np.arange(cm.shape[0]),\n",
    "           # ... and label them with the respective list entries\n",
    "           xticklabels=classes, yticklabels=classes,\n",
    "           title=title,\n",
    "           ylabel='True label',\n",
    "           xlabel='Predicted label')\n",
    "\n",
    "    # Rotate the tick labels and set their alignment.\n",
    "    plt.setp(ax.get_xticklabels(), rotation=45, ha=\"right\",\n",
    "             rotation_mode=\"anchor\")\n",
    "\n",
    "    # Loop over data dimensions and create text annotations.\n",
    "    fmt = '.2f' if normalize else 'd'\n",
    "    thresh = cm.max() / 2.\n",
    "    for i in range(cm.shape[0]):\n",
    "        for j in range(cm.shape[1]):\n",
    "            ax.text(j, i, format(cm[i, j], fmt),\n",
    "                    ha=\"center\", va=\"center\",\n",
    "                    color=\"white\" if cm[i, j] > thresh else \"black\")\n",
    "    fig.tight_layout()\n",
    "    return ax"
   ]
  },
  {
   "cell_type": "code",
   "execution_count": 25,
   "metadata": {},
   "outputs": [],
   "source": [
    "def show_GuassNB_matrix(valid_y, pred):\n",
    "    print(\"======================\")\n",
    "    plot_confusion_matrix1(valid_y, pred, classes=np.array(['sweet0', 'sweet1',\"sweet2\",\"sweet3\",\"sweet4\"]), cmap=plt.cm.Blues)"
   ]
  },
  {
   "cell_type": "code",
   "execution_count": 27,
   "metadata": {},
   "outputs": [
    {
     "name": "stdout",
     "output_type": "stream",
     "text": [
      "(327, 16)\n"
     ]
    }
   ],
   "source": [
    "x_train, x_test, y_train, y_test = train_test_split(xscaled, yflevel, train_size=0.7)\n",
    "print(x_train.shape)"
   ]
  },
  {
   "cell_type": "markdown",
   "metadata": {},
   "source": [
    "#### holdout (7:3)"
   ]
  },
  {
   "cell_type": "code",
   "execution_count": 28,
   "metadata": {},
   "outputs": [
    {
     "name": "stdout",
     "output_type": "stream",
     "text": [
      "              precision    recall  f1-score   support\n",
      "\n",
      "           0       0.89      0.81      0.85        21\n",
      "           1       0.83      0.95      0.88        56\n",
      "           2       0.94      0.78      0.85        40\n",
      "           3       0.86      0.80      0.83        15\n",
      "           4       0.73      0.89      0.80         9\n",
      "\n",
      "    accuracy                           0.86       141\n",
      "   macro avg       0.85      0.84      0.84       141\n",
      "weighted avg       0.87      0.86      0.86       141\n",
      "\n",
      "======================\n",
      "Confusion matrix\n",
      "[[17  3  0  0  1]\n",
      " [ 2 53  1  0  0]\n",
      " [ 0  8 31  1  0]\n",
      " [ 0  0  1 12  2]\n",
      " [ 0  0  0  1  8]]\n"
     ]
    },
    {
     "data": {
      "image/png": "[encoded data removed]",
      "text/plain": [
       "<Figure size 432x288 with 2 Axes>"
      ]
     },
     "metadata": {
      "needs_background": "light"
     },
     "output_type": "display_data"
    }
   ],
   "source": [
    "clf = GaussianNB()\n",
    "clf.fit(x_train, y_train)\n",
    "y_pred  = clf.predict(x_test)\n",
    "print(classification_report(y_test, y_pred))\n",
    "show_GuassNB_matrix(y_test, y_pred)\n",
    "#print(y_pred)"
   ]
  },
  {
   "cell_type": "code",
   "execution_count": 29,
   "metadata": {},
   "outputs": [
    {
     "name": "stdout",
     "output_type": "stream",
     "text": [
      "(468, 16) (468,)\n",
      "(468,)\n"
     ]
    }
   ],
   "source": [
    "print(xscaled.shape, yflevel.shape)\n",
    "#yflevel = yflevel.reshape((468,1))\n",
    "print(yflevel.shape)\n",
    "data = np.hstack((xscaled,yflevel.reshape(468,1)))"
   ]
  },
  {
   "cell_type": "code",
   "execution_count": 30,
   "metadata": {},
   "outputs": [],
   "source": [
    "def read_data_cross_validation(allData, allData_y, k):\n",
    "    trainDatas = []\n",
    "    testDatas = []\n",
    "    trainDatas_y = []\n",
    "    testDatas_y = []\n",
    "\n",
    "\n",
    "    fold_size = int(len(allData)/k)\n",
    "    mark_list = []\n",
    "    for i in range(k):\n",
    "        mark = []\n",
    "        mark.append(i*fold_size)\n",
    "        mark.append((i+1)*fold_size)\n",
    "        mark_list.append(mark)\n",
    "\n",
    "    print(mark_list)\n",
    "\n",
    "    for mark in mark_list:\n",
    "        trainData = np.array(allData[mark[1]:].tolist() + allData[:mark[0]].tolist())\n",
    "        testData = allData[mark[0]:mark[1]]\n",
    "        trainData_y = np.array(allData_y[mark[1]:] + allData_y[:mark[0]])\n",
    "        testData_y = np.array(allData_y[mark[0]:mark[1]])\n",
    "        trainDatas.append(trainData)\n",
    "        testDatas.append(testData)\n",
    "        trainDatas_y.append(trainData_y)\n",
    "        testDatas_y.append(testData_y)\n",
    "    print(trainDatas, testDatas, trainDatas_y, testDatas_y)\n",
    "    return trainDatas, testDatas, trainDatas_y, testDatas_y"
   ]
  },
  {
   "cell_type": "code",
   "execution_count": 31,
   "metadata": {},
   "outputs": [
    {
     "name": "stdout",
     "output_type": "stream",
     "text": [
      "[[0, 156], [156, 312], [312, 468]]\n",
      "[array([[ 1.0662956 ,  0.97776156,  1.04816731, ...,  0.06544407,\n",
      "         0.92145115,  0.92182014],\n",
      "       [-0.93782625,  0.97776156, -0.95404616, ...,  0.59717711,\n",
      "         0.37530229,  0.62347172],\n",
      "       [ 1.0662956 ,  0.97776156,  1.04816731, ...,  1.44794999,\n",
      "         0.26607252,  0.32512329],\n",
      "       ...,\n",
      "       [-0.93782625,  0.97776156,  1.04816731, ..., -0.6789822 ,\n",
      "        -0.60776565, -0.569922  ],\n",
      "       [-0.93782625, -1.02493427,  1.04816731, ..., -1.21071524,\n",
      "        -1.80929314, -2.21083836],\n",
      "       [ 1.0662956 ,  0.97776156, -0.95404616, ..., -0.46628898,\n",
      "        -1.04468474, -1.76331571]]), array([[-0.93782625,  0.97776156,  1.04816731, ...,  0.80987033,\n",
      "        -0.49853588, -1.16661886],\n",
      "       [-0.93782625,  0.97776156, -0.95404616, ..., -0.6789822 ,\n",
      "         0.81222138,  0.92182014],\n",
      "       [-0.93782625, -1.02493427,  1.04816731, ..., -1.8487949 ,\n",
      "        -2.02775268, -2.21083836],\n",
      "       ...,\n",
      "       [-0.93782625,  0.97776156,  1.04816731, ..., -0.46628898,\n",
      "        -0.49853588, -0.12239936],\n",
      "       [ 1.0662956 ,  0.97776156,  1.04816731, ...,  0.06544407,\n",
      "        -1.04468474, -0.86827043],\n",
      "       [ 1.0662956 ,  0.97776156, -0.95404616, ..., -1.10436863,\n",
      "        -1.26314428, -0.12239936]]), array([[-0.93782625,  0.97776156,  1.04816731, ..., -0.99802202,\n",
      "        -0.28007634,  0.17594907],\n",
      "       [-0.93782625, -1.02493427, -0.95404616, ..., -0.46628898,\n",
      "         0.26607252,  0.92182014],\n",
      "       [-0.93782625, -1.02493427,  1.04816731, ...,  2.40506947,\n",
      "         0.37530229, -0.86827043],\n",
      "       ...,\n",
      "       [-0.93782625, -1.02493427,  1.04816731, ...,  0.4908305 ,\n",
      "        -0.17084657,  0.4742975 ],\n",
      "       [ 1.0662956 , -1.02493427, -0.95404616, ...,  1.34160338,\n",
      "         1.4676    ,  0.4742975 ],\n",
      "       [-0.93782625,  0.97776156, -0.95404616, ..., -0.25359576,\n",
      "         0.59376183,  0.4742975 ]])] [array([[-0.93782625,  0.97776156,  1.04816731, ..., -0.99802202,\n",
      "        -0.28007634,  0.17594907],\n",
      "       [-0.93782625, -1.02493427, -0.95404616, ..., -0.46628898,\n",
      "         0.26607252,  0.92182014],\n",
      "       [-0.93782625, -1.02493427,  1.04816731, ...,  2.40506947,\n",
      "         0.37530229, -0.86827043],\n",
      "       ...,\n",
      "       [-0.93782625,  0.97776156,  1.04816731, ..., -0.46628898,\n",
      "        -0.49853588, -0.12239936],\n",
      "       [ 1.0662956 ,  0.97776156,  1.04816731, ...,  0.06544407,\n",
      "        -1.04468474, -0.86827043],\n",
      "       [ 1.0662956 ,  0.97776156, -0.95404616, ..., -1.10436863,\n",
      "        -1.26314428, -0.12239936]]), array([[ 1.0662956 ,  0.97776156,  1.04816731, ...,  0.06544407,\n",
      "         0.92145115,  0.92182014],\n",
      "       [-0.93782625,  0.97776156, -0.95404616, ...,  0.59717711,\n",
      "         0.37530229,  0.62347172],\n",
      "       [ 1.0662956 ,  0.97776156,  1.04816731, ...,  1.44794999,\n",
      "         0.26607252,  0.32512329],\n",
      "       ...,\n",
      "       [-0.93782625, -1.02493427,  1.04816731, ...,  0.4908305 ,\n",
      "        -0.17084657,  0.4742975 ],\n",
      "       [ 1.0662956 , -1.02493427, -0.95404616, ...,  1.34160338,\n",
      "         1.4676    ,  0.4742975 ],\n",
      "       [-0.93782625,  0.97776156, -0.95404616, ..., -0.25359576,\n",
      "         0.59376183,  0.4742975 ]]), array([[-0.93782625,  0.97776156,  1.04816731, ...,  0.80987033,\n",
      "        -0.49853588, -1.16661886],\n",
      "       [-0.93782625,  0.97776156, -0.95404616, ..., -0.6789822 ,\n",
      "         0.81222138,  0.92182014],\n",
      "       [-0.93782625, -1.02493427,  1.04816731, ..., -1.8487949 ,\n",
      "        -2.02775268, -2.21083836],\n",
      "       ...,\n",
      "       [-0.93782625,  0.97776156,  1.04816731, ..., -0.6789822 ,\n",
      "        -0.60776565, -0.569922  ],\n",
      "       [-0.93782625, -1.02493427,  1.04816731, ..., -1.21071524,\n",
      "        -1.80929314, -2.21083836],\n",
      "       [ 1.0662956 ,  0.97776156, -0.95404616, ..., -0.46628898,\n",
      "        -1.04468474, -1.76331571]])] [array([2, 3, 2, 2, 2, 2, 2, 2, 1, 2, 2, 2, 1, 2, 3, 1, 1, 0, 1, 3, 1, 2,\n",
      "       0, 1, 3, 2, 2, 1, 1, 0, 1, 2, 1, 2, 2, 4, 1, 0, 1, 1, 2, 1, 3, 4,\n",
      "       0, 1, 1, 2, 1, 4, 2, 1, 0, 1, 1, 2, 2, 1, 1, 2, 3, 0, 0, 3, 1, 1,\n",
      "       1, 0, 2, 0, 2, 2, 0, 1, 1, 2, 1, 2, 1, 1, 0, 1, 1, 3, 1, 2, 1, 1,\n",
      "       1, 1, 0, 4, 2, 1, 2, 2, 2, 0, 1, 1, 1, 2, 1, 2, 2, 1, 2, 1, 2, 1,\n",
      "       0, 1, 2, 0, 1, 2, 2, 2, 0, 2, 2, 1, 1, 3, 0, 1, 0, 2, 4, 2, 1, 1,\n",
      "       1, 0, 0, 1, 1, 2, 1, 2, 1, 3, 0, 2, 2, 0, 0, 1, 1, 1, 2, 1, 3, 0,\n",
      "       1, 1, 1, 1, 0, 0, 1, 3, 0, 1, 0, 1, 2, 0, 3, 0, 2, 0, 2, 0, 1, 0,\n",
      "       0, 0, 0, 1, 1, 2, 2, 1, 0, 0, 2, 2, 1, 4, 0, 0, 0, 1, 0, 0, 1, 1,\n",
      "       1, 0, 4, 3, 1, 2, 1, 2, 1, 1, 1, 0, 1, 1, 2, 1, 1, 1, 0, 1, 2, 1,\n",
      "       2, 1, 1, 2, 2, 1, 2, 1, 2, 1, 1, 2, 1, 1, 2, 1, 1, 1, 2, 2, 3, 1,\n",
      "       2, 1, 1, 2, 2, 1, 2, 4, 1, 2, 1, 1, 1, 2, 1, 2, 2, 2, 4, 3, 2, 3,\n",
      "       0, 2, 3, 3, 1, 2, 3, 3, 3, 4, 2, 2, 1, 2, 1, 4, 1, 1, 1, 2, 3, 0,\n",
      "       2, 2, 0, 1, 3, 3, 1, 2, 3, 0, 2, 2, 1, 0, 1, 0, 0, 1, 1, 1, 0, 1,\n",
      "       2, 2, 1, 0]), array([1, 1, 0, 0, 1, 3, 0, 1, 0, 1, 2, 0, 3, 0, 2, 0, 2, 0, 1, 0, 0, 0,\n",
      "       0, 1, 1, 2, 2, 1, 0, 0, 2, 2, 1, 4, 0, 0, 0, 1, 0, 0, 1, 1, 1, 0,\n",
      "       4, 3, 1, 2, 1, 2, 1, 1, 1, 0, 1, 1, 2, 1, 1, 1, 0, 1, 2, 1, 2, 1,\n",
      "       1, 2, 2, 1, 2, 1, 2, 1, 1, 2, 1, 1, 2, 1, 1, 1, 2, 2, 3, 1, 2, 1,\n",
      "       1, 2, 2, 1, 2, 4, 1, 2, 1, 1, 1, 2, 1, 2, 2, 2, 4, 3, 2, 3, 0, 2,\n",
      "       3, 3, 1, 2, 3, 3, 3, 4, 2, 2, 1, 2, 1, 4, 1, 1, 1, 2, 3, 0, 2, 2,\n",
      "       0, 1, 3, 3, 1, 2, 3, 0, 2, 2, 1, 0, 1, 0, 0, 1, 1, 1, 0, 1, 2, 2,\n",
      "       1, 0, 2, 2, 0, 0, 0, 0, 0, 1, 0, 3, 1, 2, 2, 2, 2, 1, 2, 1, 3, 1,\n",
      "       1, 3, 3, 1, 2, 2, 3, 3, 1, 3, 2, 4, 2, 1, 2, 1, 2, 2, 1, 3, 2, 1,\n",
      "       3, 1, 2, 3, 3, 2, 2, 1, 4, 2, 4, 1, 2, 3, 2, 3, 2, 2, 1, 1, 2, 2,\n",
      "       1, 1, 3, 2, 0, 2, 3, 4, 1, 1, 0, 3, 1, 3, 1, 2, 2, 2, 0, 1, 2, 1,\n",
      "       2, 2, 1, 1, 0, 2, 0, 2, 2, 1, 1, 3, 1, 0, 1, 2, 1, 1, 2, 2, 0, 1,\n",
      "       1, 2, 4, 2, 2, 0, 3, 1, 3, 1, 2, 4, 0, 4, 2, 2, 4, 1, 3, 1, 0, 0,\n",
      "       3, 1, 1, 3, 2, 4, 4, 1, 2, 0, 4, 2, 3, 3, 2, 1, 2, 0, 4, 1, 3, 4,\n",
      "       3, 2, 2, 4]), array([2, 2, 0, 0, 0, 0, 0, 1, 0, 3, 1, 2, 2, 2, 2, 1, 2, 1, 3, 1, 1, 3,\n",
      "       3, 1, 2, 2, 3, 3, 1, 3, 2, 4, 2, 1, 2, 1, 2, 2, 1, 3, 2, 1, 3, 1,\n",
      "       2, 3, 3, 2, 2, 1, 4, 2, 4, 1, 2, 3, 2, 3, 2, 2, 1, 1, 2, 2, 1, 1,\n",
      "       3, 2, 0, 2, 3, 4, 1, 1, 0, 3, 1, 3, 1, 2, 2, 2, 0, 1, 2, 1, 2, 2,\n",
      "       1, 1, 0, 2, 0, 2, 2, 1, 1, 3, 1, 0, 1, 2, 1, 1, 2, 2, 0, 1, 1, 2,\n",
      "       4, 2, 2, 0, 3, 1, 3, 1, 2, 4, 0, 4, 2, 2, 4, 1, 3, 1, 0, 0, 3, 1,\n",
      "       1, 3, 2, 4, 4, 1, 2, 0, 4, 2, 3, 3, 2, 1, 2, 0, 4, 1, 3, 4, 3, 2,\n",
      "       2, 4, 2, 3, 2, 2, 2, 2, 2, 2, 1, 2, 2, 2, 1, 2, 3, 1, 1, 0, 1, 3,\n",
      "       1, 2, 0, 1, 3, 2, 2, 1, 1, 0, 1, 2, 1, 2, 2, 4, 1, 0, 1, 1, 2, 1,\n",
      "       3, 4, 0, 1, 1, 2, 1, 4, 2, 1, 0, 1, 1, 2, 2, 1, 1, 2, 3, 0, 0, 3,\n",
      "       1, 1, 1, 0, 2, 0, 2, 2, 0, 1, 1, 2, 1, 2, 1, 1, 0, 1, 1, 3, 1, 2,\n",
      "       1, 1, 1, 1, 0, 4, 2, 1, 2, 2, 2, 0, 1, 1, 1, 2, 1, 2, 2, 1, 2, 1,\n",
      "       2, 1, 0, 1, 2, 0, 1, 2, 2, 2, 0, 2, 2, 1, 1, 3, 0, 1, 0, 2, 4, 2,\n",
      "       1, 1, 1, 0, 0, 1, 1, 2, 1, 2, 1, 3, 0, 2, 2, 0, 0, 1, 1, 1, 2, 1,\n",
      "       3, 0, 1, 1])] [array([2, 2, 0, 0, 0, 0, 0, 1, 0, 3, 1, 2, 2, 2, 2, 1, 2, 1, 3, 1, 1, 3,\n",
      "       3, 1, 2, 2, 3, 3, 1, 3, 2, 4, 2, 1, 2, 1, 2, 2, 1, 3, 2, 1, 3, 1,\n",
      "       2, 3, 3, 2, 2, 1, 4, 2, 4, 1, 2, 3, 2, 3, 2, 2, 1, 1, 2, 2, 1, 1,\n",
      "       3, 2, 0, 2, 3, 4, 1, 1, 0, 3, 1, 3, 1, 2, 2, 2, 0, 1, 2, 1, 2, 2,\n",
      "       1, 1, 0, 2, 0, 2, 2, 1, 1, 3, 1, 0, 1, 2, 1, 1, 2, 2, 0, 1, 1, 2,\n",
      "       4, 2, 2, 0, 3, 1, 3, 1, 2, 4, 0, 4, 2, 2, 4, 1, 3, 1, 0, 0, 3, 1,\n",
      "       1, 3, 2, 4, 4, 1, 2, 0, 4, 2, 3, 3, 2, 1, 2, 0, 4, 1, 3, 4, 3, 2,\n",
      "       2, 4]), array([2, 3, 2, 2, 2, 2, 2, 2, 1, 2, 2, 2, 1, 2, 3, 1, 1, 0, 1, 3, 1, 2,\n",
      "       0, 1, 3, 2, 2, 1, 1, 0, 1, 2, 1, 2, 2, 4, 1, 0, 1, 1, 2, 1, 3, 4,\n",
      "       0, 1, 1, 2, 1, 4, 2, 1, 0, 1, 1, 2, 2, 1, 1, 2, 3, 0, 0, 3, 1, 1,\n",
      "       1, 0, 2, 0, 2, 2, 0, 1, 1, 2, 1, 2, 1, 1, 0, 1, 1, 3, 1, 2, 1, 1,\n",
      "       1, 1, 0, 4, 2, 1, 2, 2, 2, 0, 1, 1, 1, 2, 1, 2, 2, 1, 2, 1, 2, 1,\n",
      "       0, 1, 2, 0, 1, 2, 2, 2, 0, 2, 2, 1, 1, 3, 0, 1, 0, 2, 4, 2, 1, 1,\n",
      "       1, 0, 0, 1, 1, 2, 1, 2, 1, 3, 0, 2, 2, 0, 0, 1, 1, 1, 2, 1, 3, 0,\n",
      "       1, 1]), array([1, 1, 0, 0, 1, 3, 0, 1, 0, 1, 2, 0, 3, 0, 2, 0, 2, 0, 1, 0, 0, 0,\n",
      "       0, 1, 1, 2, 2, 1, 0, 0, 2, 2, 1, 4, 0, 0, 0, 1, 0, 0, 1, 1, 1, 0,\n",
      "       4, 3, 1, 2, 1, 2, 1, 1, 1, 0, 1, 1, 2, 1, 1, 1, 0, 1, 2, 1, 2, 1,\n",
      "       1, 2, 2, 1, 2, 1, 2, 1, 1, 2, 1, 1, 2, 1, 1, 1, 2, 2, 3, 1, 2, 1,\n",
      "       1, 2, 2, 1, 2, 4, 1, 2, 1, 1, 1, 2, 1, 2, 2, 2, 4, 3, 2, 3, 0, 2,\n",
      "       3, 3, 1, 2, 3, 3, 3, 4, 2, 2, 1, 2, 1, 4, 1, 1, 1, 2, 3, 0, 2, 2,\n",
      "       0, 1, 3, 3, 1, 2, 3, 0, 2, 2, 1, 0, 1, 0, 0, 1, 1, 1, 0, 1, 2, 2,\n",
      "       1, 0])]\n"
     ]
    }
   ],
   "source": [
    "x_train, x_test, y_train, y_test = read_data_cross_validation(xscaled,list(yflevel), k=3)"
   ]
  },
  {
   "cell_type": "markdown",
   "metadata": {},
   "source": [
    "#### Kfold (k=3) "
   ]
  },
  {
   "cell_type": "code",
   "execution_count": 32,
   "metadata": {},
   "outputs": [
    {
     "name": "stdout",
     "output_type": "stream",
     "text": [
      "              precision    recall  f1-score   support\n",
      "\n",
      "           0       0.58      0.39      0.46        75\n",
      "           1       0.63      0.93      0.75       169\n",
      "           2       0.88      0.54      0.67       146\n",
      "           3       0.65      0.64      0.65        53\n",
      "           4       0.42      0.40      0.41        25\n",
      "\n",
      "    accuracy                           0.66       468\n",
      "   macro avg       0.63      0.58      0.59       468\n",
      "weighted avg       0.69      0.66      0.65       468\n",
      "\n",
      "======================\n",
      "Confusion matrix\n",
      "[[ 29  45   0   0   1]\n",
      " [  5 158   5   0   1]\n",
      " [  1  48  79  11   7]\n",
      " [  7   1   6  34   5]\n",
      " [  8   0   0   7  10]]\n"
     ]
    },
    {
     "data": {
      "image/png": "[encoded data removed]",
      "text/plain": [
       "<Figure size 432x288 with 2 Axes>"
      ]
     },
     "metadata": {
      "needs_background": "light"
     },
     "output_type": "display_data"
    }
   ],
   "source": [
    "k = 3\n",
    "y_true = []\n",
    "y_prediction = []\n",
    "for i_k in range(k):\n",
    "    clf = GaussianNB()\n",
    "    clf.fit(x_train[i_k], y_train[i_k])\n",
    "    y_pred  = clf.predict(x_test[i_k])\n",
    "    \n",
    "    y_true.extend(y_test[i_k])\n",
    "    y_prediction.extend(y_pred)\n",
    "\n",
    "print(classification_report(y_true, y_prediction))\n",
    "show_GuassNB_matrix(y_true, y_prediction)\n",
    "    "
   ]
  },
  {
   "cell_type": "markdown",
   "metadata": {},
   "source": [
    "### 4. Random Forest"
   ]
  },
  {
   "cell_type": "code",
   "execution_count": 34,
   "metadata": {},
   "outputs": [
    {
     "name": "stdout",
     "output_type": "stream",
     "text": [
      "Binary Dataset:\n",
      "\n",
      "hold out testing:tree#= 10\n",
      "\n",
      "-accuracy: 0.91\n",
      "\n",
      "-report:\n",
      "        precision      recall         \n",
      "0       0.95           0.91           \n",
      "1       0.94           0.96           \n",
      "2       0.94           0.96           \n",
      "3       0.8            0.86           \n",
      "4       0.71           0.56           \n",
      "\n",
      "-confusion matrix:\n",
      "[[21  1  0  0  1]\n",
      " [ 1 46  1  0  0]\n",
      " [ 0  2 45  0  0]\n",
      " [ 0  0  1 12  1]\n",
      " [ 0  0  1  3  5]]\n",
      "\n",
      "\n",
      "hold out testing:tree#= 50\n",
      "\n",
      "-accuracy: 0.9\n",
      "\n",
      "-report:\n",
      "        precision      recall         \n",
      "0       0.94           0.6            \n",
      "1       0.82           0.95           \n",
      "2       0.96           1.0            \n",
      "3       0.89           0.94           \n",
      "4       1.0            0.86           \n",
      "\n",
      "-confusion matrix:\n",
      "[[15  9  0  1  0]\n",
      " [ 1 40  1  0  0]\n",
      " [ 0  0 50  0  0]\n",
      " [ 0  0  1 16  0]\n",
      " [ 0  0  0  1  6]]\n",
      "\n",
      "\n",
      "hold out testing:tree#= 100\n",
      "\n",
      "-accuracy: 0.92\n",
      "\n",
      "-report:\n",
      "        precision      recall         \n",
      "0       0.95           0.95           \n",
      "1       0.97           0.95           \n",
      "2       0.87           0.98           \n",
      "3       0.83           0.71           \n",
      "4       1.0            0.75           \n",
      "\n",
      "-confusion matrix:\n",
      "[[18  1  0  0  0]\n",
      " [ 1 56  2  0  0]\n",
      " [ 0  1 40  0  0]\n",
      " [ 0  0  4 10  0]\n",
      " [ 0  0  0  2  6]]\n",
      "\n",
      "\n",
      "k-fold               precision    recall  f1-score   support\n",
      "\n",
      "           0       0.96      0.96      0.96        27\n",
      "           1       0.98      0.97      0.98        61\n",
      "           2       0.98      0.98      0.98        53\n",
      "           3       0.85      0.92      0.88        12\n",
      "           4       0.67      0.67      0.67         3\n",
      "\n",
      "    accuracy                           0.96       156\n",
      "   macro avg       0.89      0.90      0.89       156\n",
      "weighted avg       0.96      0.96      0.96       156\n",
      "\n",
      "[[26  0  0  1  0]\n",
      " [ 1 59  1  0  0]\n",
      " [ 0  1 52  0  0]\n",
      " [ 0  0  0 11  1]\n",
      " [ 0  0  0  1  2]]\n",
      "5-Level Dataset:\n",
      "\n",
      "hold out testing:tree#= 10\n",
      "\n",
      "-accuracy: 0.88\n",
      "\n",
      "-report:\n",
      "        precision      recall         \n",
      "0       0.95           0.95           \n",
      "1       0.96           0.98           \n",
      "2       0.82           0.98           \n",
      "3       0.82           0.5            \n",
      "4       0.67           0.44           \n",
      "\n",
      "-confusion matrix:\n",
      "[[19  1  0  0  0]\n",
      " [ 1 46  0  0  0]\n",
      " [ 0  1 46  0  0]\n",
      " [ 0  0  7  9  2]\n",
      " [ 0  0  3  2  4]]\n",
      "\n",
      "\n",
      "hold out testing:tree#= 50\n",
      "\n",
      "-accuracy: 0.99\n",
      "\n",
      "-report:\n",
      "        precision      recall         \n",
      "0       0.95           0.95           \n",
      "1       0.98           0.98           \n",
      "2       1.0            1.0            \n",
      "3       1.0            1.0            \n",
      "4       1.0            1.0            \n",
      "\n",
      "-confusion matrix:\n",
      "[[18  1  0  0  0]\n",
      " [ 1 48  0  0  0]\n",
      " [ 0  0 51  0  0]\n",
      " [ 0  0  0 16  0]\n",
      " [ 0  0  0  0  6]]\n",
      "\n",
      "\n",
      "hold out testing:tree#= 100\n",
      "\n",
      "-accuracy: 0.87\n",
      "\n",
      "-report:\n",
      "        precision      recall         \n",
      "0       0.96           0.72           \n",
      "1       0.84           0.98           \n",
      "2       0.89           1.0            \n",
      "3       0.75           0.64           \n",
      "4       1.0            0.57           \n",
      "\n",
      "-confusion matrix:\n",
      "[[23  9  0  0  0]\n",
      " [ 1 46  0  0  0]\n",
      " [ 0  0 41  0  0]\n",
      " [ 0  0  5  9  0]\n",
      " [ 0  0  0  3  4]]\n",
      "\n",
      "\n",
      "k-fold               precision    recall  f1-score   support\n",
      "\n",
      "           0       0.96      0.96      0.96        27\n",
      "           1       0.98      0.97      0.98        61\n",
      "           2       0.98      0.98      0.98        53\n",
      "           3       0.85      0.92      0.88        12\n",
      "           4       0.67      0.67      0.67         3\n",
      "\n",
      "    accuracy                           0.96       156\n",
      "   macro avg       0.89      0.90      0.89       156\n",
      "weighted avg       0.96      0.96      0.96       156\n",
      "\n",
      "[[26  0  0  1  0]\n",
      " [ 1 59  1  0  0]\n",
      " [ 0  1 52  0  0]\n",
      " [ 0  0  0 11  1]\n",
      " [ 0  0  0  1  2]]\n"
     ]
    },
    {
     "data": {
      "image/png": "[encoded data removed]",
      "text/plain": [
       "<Figure size 432x288 with 1 Axes>"
      ]
     },
     "metadata": {
      "needs_background": "light"
     },
     "output_type": "display_data"
    }
   ],
   "source": [
    "def RFC(x, y, k, depth):\n",
    "    model=RandomForestClassifier(n_estimators=k, criterion='entropy', max_depth=depth)\n",
    "    model.fit(x, y)\n",
    "    return model\n",
    "\n",
    "\n",
    "\n",
    "def holdOut(xscaled, yflevel):\n",
    "    for i in range(3):\n",
    "        k=0\n",
    "        if i==0:k=10\n",
    "        elif i==1:k=50\n",
    "        else:k=100\n",
    "        print('hold out testing:tree#=', k)\n",
    "        X_train, X_test, y_train, y_test = train_test_split(xscaled, yflevel, test_size=0.30)\n",
    "        model=RFC(X_train, y_train, k, 6)\n",
    "        predicted=model.predict(X_test)\n",
    "        report=metrics.classification_report(y_test, predicted, output_dict=True)\n",
    "        confusion=metrics.confusion_matrix(y_test, predicted)\n",
    "        showResult(report, confusion)\n",
    "\n",
    "    #compare the accuracy\n",
    "    #number of trees\n",
    "    accuracy=[]\n",
    "    for k in range(1, 100, 2):\n",
    "        model=RFC(X_train, y_train, k, 6)\n",
    "        predicted=model.predict(X_test)\n",
    "        report=metrics.classification_report(y_test, predicted, output_dict=True)\n",
    "        accuracy.append(report['accuracy'])\n",
    "    k_range=range(1, 100, 2)\n",
    "    plt.plot(k_range, accuracy)\n",
    "   # plt.savefig('RFCompare.png')\n",
    "        \n",
    "\n",
    "\n",
    "def kFold(xscaled, yflevel):\n",
    "    data_kfold = KFold(n_splits=3, random_state=100, shuffle=True)\n",
    "\n",
    "    for train_index , test_index in data_kfold.split(xscaled):\n",
    "        X_train, X_test = xscaled[train_index], xscaled[test_index]\n",
    "        y_train, y_test = yflevel[train_index], yflevel[test_index]\n",
    "        #print(len(X_test),len(y_test))\n",
    "        model_rf_k = RandomForestClassifier(n_estimators=100, random_state=0).fit(X_train, y_train)\n",
    "        y_predict = model_rf_k.predict(X_test)\n",
    "    print('k-fold', classification_report(y_test, y_predict))\n",
    "    print(confusion_matrix(y_test, y_predict))\n",
    "        \n",
    "\n",
    "def showResult(ans_report, ans_matrix):\n",
    "    \n",
    "    print('\\n-accuracy:', round(ans_report['accuracy'], 2))\n",
    "    \n",
    "    print('\\n-report:')\n",
    "    print(f\"{'':<8}{'precision':<15}{'recall':<15}\")\n",
    "    for i in ans_report:\n",
    "        if i=='accuracy':break\n",
    "        print(f\"{i:<8}{round(ans_report[i]['precision'], 2):<15}{round(ans_report[i]['recall'], 2):<15}\")\n",
    "    \n",
    "    print('\\n-confusion matrix:')\n",
    "    print(ans_matrix)\n",
    "    \n",
    "    print(\"\\n\")\n",
    "\n",
    "    \n",
    "    \n",
    "def main():     \n",
    "    ##Binary test\n",
    "    print('Binary Dataset:\\n')\n",
    "    holdOut(xscaled, yflevel)\n",
    "    kFold(xscaled, yflevel)\n",
    "    \n",
    "    ##5-level test\n",
    "    print('5-Level Dataset:\\n')\n",
    "    holdOut(xscaled, yflevel)\n",
    "    kFold(xscaled, yflevel)    \n",
    "    \n",
    "if __name__ == \"__main__\":\n",
    "    main()\n",
    "    \n"
   ]
  },
  {
   "cell_type": "markdown",
   "metadata": {},
   "source": [
    "### 5. Logistic Regression\n",
    "#### multi_class參數選用'multinomial',多對多形式來處理多分類問題。參數Ｃ用1,0.5和0.25比較"
   ]
  },
  {
   "cell_type": "code",
   "execution_count": 35,
   "metadata": {},
   "outputs": [
    {
     "data": {
      "text/plain": [
       "LogisticRegression(C=1, multi_class='multinomial')"
      ]
     },
     "execution_count": 35,
     "metadata": {},
     "output_type": "execute_result"
    }
   ],
   "source": [
    "from sklearn.linear_model import LogisticRegression\n",
    "model=LogisticRegression(multi_class='multinomial',C=1)\n",
    "x_train, x_test, y_train, y_test = train_test_split(xscaled, yflevel,test_size=0.3)\n",
    "\n",
    "from sklearn.preprocessing  import StandardScaler\n",
    "sc=StandardScaler()\n",
    "\n",
    "x_train_nor=sc.fit_transform(x_train)\n",
    "x_test_nor=sc.transform(x_test)\n",
    "model.fit(x_train_nor,y_train)"
   ]
  },
  {
   "cell_type": "code",
   "execution_count": 36,
   "metadata": {},
   "outputs": [
    {
     "name": "stdout",
     "output_type": "stream",
     "text": [
      "model C=1:  \n",
      "\n",
      "The score(accuracy) of the model: 0.8439716312056738\n",
      "\n",
      "confusion matrix of the model:\n",
      "\n",
      "\n",
      "    0   1   2   3  4\n",
      "0  15   4   0   0  1\n",
      "1   3  45   0   0  0\n",
      "2   0   2  42   0  0\n",
      "3   0   0   9  12  2\n",
      "4   0   0   0   1  5\n",
      "\n",
      " The mean absolute error is: 0.1773049645390071 \n",
      "\n",
      "The report the model:\n",
      "\n",
      "              precision    recall  f1-score   support\n",
      "\n",
      "           0       0.83      0.75      0.79        20\n",
      "           1       0.88      0.94      0.91        48\n",
      "           2       0.82      0.95      0.88        44\n",
      "           3       0.92      0.52      0.67        23\n",
      "           4       0.62      0.83      0.71         6\n",
      "\n",
      "    accuracy                           0.84       141\n",
      "   macro avg       0.82      0.80      0.79       141\n",
      "weighted avg       0.85      0.84      0.84       141\n",
      "\n",
      "----------------------------------------------------------------------------------------------------\n",
      "model C=0.5:  \n",
      "\n",
      "The score(accuracy) of the model: 0.7872340425531915 \n",
      "\n",
      "confusion matrix of the model: \n",
      "\n",
      "    0   1   2  3  4\n",
      "0  14   5   0  0  1\n",
      "1   3  45   0  0  0\n",
      "2   0   4  40  0  0\n",
      "3   0   0  14  7  2\n",
      "4   0   0   0  1  5\n",
      "\n",
      " The mean absolute error is: 0.23404255319148937 \n",
      "\n",
      "The report the model:\n",
      "\n",
      "              precision    recall  f1-score   support\n",
      "\n",
      "           0       0.82      0.70      0.76        20\n",
      "           1       0.83      0.94      0.88        48\n",
      "           2       0.74      0.91      0.82        44\n",
      "           3       0.88      0.30      0.45        23\n",
      "           4       0.62      0.83      0.71         6\n",
      "\n",
      "    accuracy                           0.79       141\n",
      "   macro avg       0.78      0.74      0.72       141\n",
      "weighted avg       0.80      0.79      0.77       141\n",
      "\n",
      "----------------------------------------------------------------------------------------------------\n",
      "model C=0.25:\n",
      "\n",
      "\n",
      "The score(accuracy) of the model: 0.7021276595744681 \n",
      "\n",
      "confusion matrix of the model:\n",
      "\n",
      "\n",
      "    0   1   2  3  4\n",
      "0  11   8   0  0  1\n",
      "1   3  44   1  0  0\n",
      "2   0   7  37  0  0\n",
      "3   0   0  18  3  2\n",
      "4   0   0   0  2  4\n",
      "\n",
      " The mean absolute error is: 0.3191489361702128 \n",
      "\n",
      "The report the model:\n",
      "\n",
      "              precision    recall  f1-score   support\n",
      "\n",
      "           0       0.79      0.55      0.65        20\n",
      "           1       0.75      0.92      0.82        48\n",
      "           2       0.66      0.84      0.74        44\n",
      "           3       0.60      0.13      0.21        23\n",
      "           4       0.57      0.67      0.62         6\n",
      "\n",
      "    accuracy                           0.70       141\n",
      "   macro avg       0.67      0.62      0.61       141\n",
      "weighted avg       0.69      0.70      0.66       141\n",
      "\n",
      "----------------------------------------------------------------------------------------------------\n"
     ]
    },
    {
     "data": {
      "image/png": "[encoded data removed]",
      "text/plain": [
       "<Figure size 432x288 with 2 Axes>"
      ]
     },
     "metadata": {},
     "output_type": "display_data"
    },
    {
     "data": {
      "image/png": "[encoded data removed]",
      "text/plain": [
       "<Figure size 432x288 with 2 Axes>"
      ]
     },
     "metadata": {},
     "output_type": "display_data"
    },
    {
     "data": {
      "image/png": "[encoded data removed]",
      "text/plain": [
       "<Figure size 432x288 with 2 Axes>"
      ]
     },
     "metadata": {},
     "output_type": "display_data"
    }
   ],
   "source": [
    "y_true = y_test\n",
    "y_pred = model.predict(x_test_nor)\n",
    "print('model C=1: ','\\n')\n",
    "print('The score(accuracy) of the model:',model.score(x_test_nor,y_test))\n",
    "print('')\n",
    "from sklearn.metrics import confusion_matrix\n",
    "con_matrix=pd.DataFrame(confusion_matrix(y_true,y_pred))\n",
    "print('confusion matrix of the model:')\n",
    "print('\\n')\n",
    "print(con_matrix)\n",
    "sns.set()\n",
    "f,ax=plt.subplots()\n",
    "C2= confusion_matrix(y_test, y_pred, labels=[0,1,2,3,4])\n",
    "sns.heatmap(C2,annot=True,ax=ax) \n",
    "ax.set_title('confusion matrix C=1') \n",
    "ax.set_xlabel('predict') \n",
    "ax.set_ylabel('true') \n",
    "error_logistic = mean_absolute_error(y_test, y_pred)\n",
    "print('\\n','The mean absolute error is:',error_logistic,'\\n')\n",
    "print('The report the model:')\n",
    "print('')\n",
    "print(classification_report(y_test, y_pred))\n",
    "print('-'*100)\n",
    "\n",
    "model=LogisticRegression(multi_class='multinomial',C=0.5)\n",
    "model.fit(x_train_nor,y_train)\n",
    "y_true = y_test\n",
    "y_pred = model.predict(x_test_nor)\n",
    "print('model C=0.5: ','\\n')\n",
    "print('The score(accuracy) of the model:',model.score(x_test_nor,y_test),'\\n')\n",
    "from sklearn.metrics import confusion_matrix\n",
    "con_matrix=pd.DataFrame(confusion_matrix(y_true,y_pred))\n",
    "print('confusion matrix of the model:','\\n')\n",
    "print(con_matrix)\n",
    "sns.set()\n",
    "f,ax=plt.subplots()\n",
    "C2= confusion_matrix(y_test, y_pred, labels=[0,1,2,3,4])\n",
    "sns.heatmap(C2,annot=True,ax=ax) \n",
    "ax.set_title('confusion matrix C=0.5') \n",
    "ax.set_xlabel('predict') \n",
    "ax.set_ylabel('true') \n",
    "error_logistic = mean_absolute_error(y_test, y_pred)\n",
    "print('\\n','The mean absolute error is:',error_logistic,'\\n')\n",
    "print('The report the model:')\n",
    "print('')\n",
    "print(classification_report(y_test, y_pred))\n",
    "print('-'*100)\n",
    "\n",
    "model=LogisticRegression(multi_class='multinomial',C=0.25)\n",
    "model.fit(x_train_nor,y_train)\n",
    "y_true = y_test\n",
    "y_pred = model.predict(x_test_nor)\n",
    "print('model C=0.25:')\n",
    "print('\\n')\n",
    "print('The score(accuracy) of the model:',model.score(x_test_nor,y_test),'\\n')\n",
    "from sklearn.metrics import confusion_matrix\n",
    "con_matrix=pd.DataFrame(confusion_matrix(y_true,y_pred))\n",
    "print('confusion matrix of the model:')\n",
    "print('\\n')\n",
    "print(con_matrix)\n",
    "sns.set()\n",
    "f,ax=plt.subplots()\n",
    "C2= confusion_matrix(y_test, y_pred, labels=[0,1,2,3,4])\n",
    "sns.heatmap(C2,annot=True,ax=ax) \n",
    "ax.set_title('confusion matrix C=0.25') \n",
    "ax.set_xlabel('predict') \n",
    "ax.set_ylabel('true') \n",
    "error_logistic = mean_absolute_error(y_test, y_pred)\n",
    "print('\\n','The mean absolute error is:',error_logistic,'\\n')\n",
    "print('The report the model:')\n",
    "print('')\n",
    "print(classification_report(y_test, y_pred))\n",
    "print('-'*100)\n",
    "\n"
   ]
  },
  {
   "cell_type": "code",
   "execution_count": null,
   "metadata": {},
   "outputs": [],
   "source": []
  }
 ],
 "metadata": {
  "kernelspec": {
   "display_name": "Python 3 (ipykernel)",
   "language": "python",
   "name": "python3"
  },
  "language_info": {
   "codemirror_mode": {
    "name": "ipython",
    "version": 3
   },
   "file_extension": ".py",
   "mimetype": "text/x-python",
   "name": "python",
   "nbconvert_exporter": "python",
   "pygments_lexer": "ipython3",
   "version": "3.9.0"
  }
 },
 "nbformat": 4,
 "nbformat_minor": 4
}
