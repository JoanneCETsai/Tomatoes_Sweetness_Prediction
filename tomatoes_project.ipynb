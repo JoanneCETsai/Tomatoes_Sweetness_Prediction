{
 "cells": [
  {
   "cell_type": "markdown",
   "metadata": {},
   "source": [
    "# Final Project "
   ]
  },
  {
   "cell_type": "markdown",
   "metadata": {},
   "source": [
    "Problem : 如何預測番茄的甜度\n",
    "---\n",
    "\n",
    "#### Name: 吳灃晉\n",
    "#### Student ID: 0716116\n",
    "\n",
    "#### Name:席秉萱\n",
    "#### Student ID:0716001\n",
    "\n",
    "#### Name:林晉德\n",
    "#### Student ID:609001001\n",
    "\n",
    "#### Name:蔡佳恩\n",
    "#### Student ID:609001063\n",
    "\n",
    "#### Name:李佳豫\n",
    "#### Student ID:0617009\n",
    "---"
   ]
  },
  {
   "cell_type": "code",
   "execution_count": 56,
   "metadata": {},
   "outputs": [],
   "source": [
    "import numpy as np\n",
    "import pandas as pd\n",
    "import matplotlib.pyplot as plt\n",
    "import urllib3\n",
    "import sklearn.preprocessing as preprocess\n",
    "from sklearn.utils import shuffle\n",
    "from sklearn.naive_bayes import GaussianNB\n",
    "from sklearn.naive_bayes import BernoulliNB\n",
    "from sklearn.naive_bayes import MultinomialNB\n",
    "from sklearn.naive_bayes import CategoricalNB\n",
    "from sklearn.preprocessing import LabelEncoder\n",
    "from sklearn.model_selection import train_test_split\n",
    "from sklearn.metrics import confusion_matrix\n",
    "from sklearn.impute import SimpleImputer\n",
    "\n",
    "\n",
    "%matplotlib inline"
   ]
  },
  {
   "cell_type": "markdown",
   "metadata": {},
   "source": [
    "#### Part 1 : Data Import\n",
    "\n",
    "---\n",
    "1. 將資料load 近來，存成Data Frame\n",
    "\n",
    "2. 把pandas的設定打開，可以跑出所有的行列(For Data Visualization )\n",
    "\n",
    "---"
   ]
  },
  {
   "cell_type": "code",
   "execution_count": 57,
   "metadata": {
    "scrolled": false
   },
   "outputs": [],
   "source": [
    "df = pd.read_csv('ML.csv')  \n",
    "pd.set_option('display.max_columns', None)\n",
    "pd.set_option('display.max_rows', None)\n",
    "\n",
    "dfremovenum=df.iloc[:,1:]\n",
    "#dfremovenum"
   ]
  },
  {
   "cell_type": "code",
   "execution_count": 58,
   "metadata": {},
   "outputs": [],
   "source": [
    "imp=SimpleImputer(missing_values=np.nan,strategy='mean', verbose=0, copy=True)\n",
    "dfmissing=imp.fit_transform(dfremovenum)\n",
    "dfmissing\n",
    "x = dfmissing[:, :-1]\n",
    "y = dfmissing[:,-1]"
   ]
  },
  {
   "cell_type": "code",
   "execution_count": 59,
   "metadata": {},
   "outputs": [
    {
     "data": {
      "text/plain": [
       "array([[-0.93782625,  0.97776156,  1.04816731, ..., -0.99802202,\n",
       "        -0.28007634,  0.17594907],\n",
       "       [-0.93782625, -1.02493427, -0.95404616, ..., -0.46628898,\n",
       "         0.26607252,  0.92182014],\n",
       "       [-0.93782625, -1.02493427,  1.04816731, ...,  2.40506947,\n",
       "         0.37530229, -0.86827043],\n",
       "       ...,\n",
       "       [-0.93782625,  0.97776156,  1.04816731, ..., -0.6789822 ,\n",
       "        -0.60776565, -0.569922  ],\n",
       "       [-0.93782625, -1.02493427,  1.04816731, ..., -1.21071524,\n",
       "        -1.80929314, -2.21083836],\n",
       "       [ 1.0662956 ,  0.97776156, -0.95404616, ..., -0.46628898,\n",
       "        -1.04468474, -1.76331571]])"
      ]
     },
     "execution_count": 59,
     "metadata": {},
     "output_type": "execute_result"
    }
   ],
   "source": [
    "xscaled = preprocess.scale(x)\n",
    "xscaled"
   ]
  },
  {
   "cell_type": "code",
   "execution_count": 60,
   "metadata": {
    "scrolled": true
   },
   "outputs": [
    {
     "name": "stdout",
     "output_type": "stream",
     "text": [
      "[2.5 3.  3.5 4.  4.5 5.  5.5 6.  6.5 7.  7.5 8.  8.5 9.  9.5] [ 4  4 17 50 77 92 81 65 32 21 12  6  4  2  1]\n"
     ]
    }
   ],
   "source": [
    "unique,counts=np.unique(y,return_counts=True)\n",
    "print(unique,counts)"
   ]
  },
  {
   "cell_type": "markdown",
   "metadata": {},
   "source": [
    "酸度0 小於等於4<br>\n",
    "酸度1 4.5-5.0<br>\n",
    "酸度2 5.5-6.0<br>\n",
    "酸度3 6.5-7.0<br>\n",
    "酸度4 大於等於7.5<br>"
   ]
  },
  {
   "cell_type": "code",
   "execution_count": 61,
   "metadata": {},
   "outputs": [
    {
     "name": "stdout",
     "output_type": "stream",
     "text": [
      "[2 2 0 0 0 0 0 1 0 3 1 2 2 2 2 1 2 1 3 1 1 3 3 1 2 2 3 3 1 3 2 4 2 1 2 1 2\n",
      " 2 1 3 2 1 3 1 2 3 3 2 2 1 4 2 4 1 2 3 2 3 2 2 1 1 2 2 1 1 3 2 0 2 3 4 1 1\n",
      " 0 3 1 3 1 2 2 2 0 1 2 1 2 2 1 1 0 2 0 2 2 1 1 3 1 0 1 2 1 1 2 2 0 1 1 2 4\n",
      " 2 2 0 3 1 3 1 2 4 0 4 2 2 4 1 3 1 0 0 3 1 1 3 2 4 4 1 2 0 4 2 3 3 2 1 2 0\n",
      " 4 1 3 4 3 2 2 4 2 3 2 2 2 2 2 2 1 2 2 2 1 2 3 1 1 0 1 3 1 2 0 1 3 2 2 1 1\n",
      " 0 1 2 1 2 2 4 1 0 1 1 2 1 3 4 0 1 1 2 1 4 2 1 0 1 1 2 2 1 1 2 3 0 0 3 1 1\n",
      " 1 0 2 0 2 2 0 1 1 2 1 2 1 1 0 1 1 3 1 2 1 1 1 1 0 4 2 1 2 2 2 0 1 1 1 2 1\n",
      " 2 2 1 2 1 2 1 0 1 2 0 1 2 2 2 0 2 2 1 1 3 0 1 0 2 4 2 1 1 1 0 0 1 1 2 1 2\n",
      " 1 3 0 2 2 0 0 1 1 1 2 1 3 0 1 1 1 1 0 0 1 3 0 1 0 1 2 0 3 0 2 0 2 0 1 0 0\n",
      " 0 0 1 1 2 2 1 0 0 2 2 1 4 0 0 0 1 0 0 1 1 1 0 4 3 1 2 1 2 1 1 1 0 1 1 2 1\n",
      " 1 1 0 1 2 1 2 1 1 2 2 1 2 1 2 1 1 2 1 1 2 1 1 1 2 2 3 1 2 1 1 2 2 1 2 4 1\n",
      " 2 1 1 1 2 1 2 2 2 4 3 2 3 0 2 3 3 1 2 3 3 3 4 2 2 1 2 1 4 1 1 1 2 3 0 2 2\n",
      " 0 1 3 3 1 2 3 0 2 2 1 0 1 0 0 1 1 1 0 1 2 2 1 0]\n"
     ]
    }
   ],
   "source": [
    "yflevel=np.array([], dtype=int)\n",
    "for i in y:\n",
    "    if i <= 4.2:\n",
    "        yflevel = np.append(yflevel, 0)\n",
    "    elif i<=5.2:\n",
    "        yflevel = np.append(yflevel, 1)\n",
    "    elif i<=6.2:\n",
    "        yflevel = np.append(yflevel, 2)\n",
    "    elif i<=7.2:\n",
    "        yflevel = np.append(yflevel, 3)\n",
    "    else:\n",
    "        yflevel = np.append(yflevel, 4)\n",
    "print(yflevel)"
   ]
  },
  {
   "cell_type": "code",
   "execution_count": null,
   "metadata": {},
   "outputs": [],
   "source": []
  }
 ],
 "metadata": {
  "kernelspec": {
   "display_name": "Python 3 (ipykernel)",
   "language": "python",
   "name": "python3"
  },
  "language_info": {
   "codemirror_mode": {
    "name": "ipython",
    "version": 3
   },
   "file_extension": ".py",
   "mimetype": "text/x-python",
   "name": "python",
   "nbconvert_exporter": "python",
   "pygments_lexer": "ipython3",
   "version": "3.9.0"
  }
 },
 "nbformat": 4,
 "nbformat_minor": 4
}
